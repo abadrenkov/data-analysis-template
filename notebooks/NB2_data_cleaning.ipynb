{
 "metadata": {
  "name": ""
 },
 "nbformat": 3,
 "nbformat_minor": 0,
 "worksheets": [
  {
   "cells": [
    {
     "cell_type": "markdown",
     "metadata": {},
     "source": [
      "In this notebook, you'll\n",
      "\n",
      "* **load the raw data into R or Pandas dataframe** from the <code>./data/raw</code> directory using the functions and classes (written during the data gathering phase) in the <code>./script</code> directory\n",
      "\n",
      "\n",
      "* **perform visual exploration** on your data variables to detect anomalies, errors, outliers, interesting features etc.\n",
      "\n",
      "\n",
      "\n",
      "* **clean categorical and quantitative variables** (by removing observations and variables with too many missing values, by consolidating categorical variables, by selecting an appropriate subset of variables and observations for later analysis, etc.)\n",
      "\n",
      "\n",
      "* **save the cleaned data** into csv files in the <code>./data/cleaned</code> directory\n",
      "\n",
      "\n",
      "* **save interesting graphics** you obtained during visual exploration into the <code>./visualiation</code> directory"
     ]
    },
    {
     "cell_type": "markdown",
     "metadata": {},
     "source": [
      "##Team members responsible for this notebook:\n",
      "\n",
      "List the team members contributing to this notebook, along with their responsabilities:\n",
      "\n",
      "* team member 1 **name**: team member 1 **responsabilities**\n",
      "* team member 2 **name**: team member 2 **responsabilities**\n",
      "* etc.\n",
      "\n",
      "I advise you to work at least in pairs for each project notebook, as you did for the homework assignments. Of course, all team members may participate to each notebook. "
     ]
    },
    {
     "cell_type": "heading",
     "level": 2,
     "metadata": {},
     "source": [
      "Example"
     ]
    },
    {
     "cell_type": "markdown",
     "metadata": {},
     "source": [
      "Here I'll load the plant data in xml format into a R data frame using the \n",
      "\n",
      "    create_df_from_plant_xml(file)\n",
      "    \n",
      "function contained in the R script \n",
      "\n",
      "        ./script/plant_df-R"
     ]
    },
    {
     "cell_type": "code",
     "collapsed": false,
     "input": [
      "%load_ext rmagic"
     ],
     "language": "python",
     "metadata": {},
     "outputs": [
      {
       "output_type": "stream",
       "stream": "stdout",
       "text": [
        "The rmagic extension is already loaded. To reload it, use:\n",
        "  %reload_ext rmagic\n"
       ]
      }
     ],
     "prompt_number": 15
    },
    {
     "cell_type": "markdown",
     "metadata": {},
     "source": [
      "To load the function into a R cell, one needs to use the\n",
      "\n",
      "    source(R_script_file)\n",
      "command in R, which works in a similar way as the \n",
      "\n",
      "    import module\n",
      "command in Python:"
     ]
    },
    {
     "cell_type": "code",
     "collapsed": false,
     "input": [
      "%%R \n",
      "\n",
      "source('./script/plant_df-R')"
     ],
     "language": "python",
     "metadata": {},
     "outputs": [
      {
       "output_type": "stream",
       "stream": "stdout",
       "text": [
        "Error in file(filename, \"r\", encoding = encoding) : \n",
        "  cannot open the connection\n",
        "In addition: Warning message:\n",
        "In file(filename, \"r\", encoding = encoding) :\n",
        "  cannot open file './script/plant_df-R': No such file or directory\n",
        "Error in file(filename, \"r\", encoding = encoding) : \n",
        "  cannot open the connection\n"
       ]
      }
     ],
     "prompt_number": 16
    },
    {
     "cell_type": "markdown",
     "metadata": {},
     "source": [
      "Now, we can create a data frame directly from the XML file using the functin contained in the scrip above.\n",
      "\n",
      "If you wish to perform the cleaning using Pandas data frames instead of R data frames, one make the R data frame available to Python cells by using the R magic command:\n",
      "\n",
      "    %%R -d df_name\n",
      "\n",
      "To know more on how to pass variables back and forth between R and Python cells, please have a look at the notebook [here](http://nbviewer.ipython.org/url/github.com/ipython/ipython/raw/master/examples/notebooks/R%20Magics.ipynb)."
     ]
    },
    {
     "cell_type": "code",
     "collapsed": false,
     "input": [
      "%%R -d data\n",
      "\n",
      "library(XML)\n",
      "\n",
      "data = create_df_from_plant_xml('./data/raw/plant.xml')\n"
     ],
     "language": "python",
     "metadata": {},
     "outputs": [
      {
       "output_type": "stream",
       "stream": "stdout",
       "text": [
        "Error in eval(expr, envir, enclos) : \n",
        "  could not find function \"create_df_from_plant_xml\"\n"
       ]
      }
     ],
     "prompt_number": 44
    },
    {
     "cell_type": "markdown",
     "metadata": {},
     "source": [
      "Now let's load our data into a Pandas data frame:"
     ]
    },
    {
     "cell_type": "code",
     "collapsed": false,
     "input": [
      "from pandas import DataFrame\n",
      "\n",
      "df = DataFrame(data)\n",
      "df.head()"
     ],
     "language": "python",
     "metadata": {},
     "outputs": [
      {
       "ename": "NameError",
       "evalue": "name 'data' is not defined",
       "output_type": "pyerr",
       "traceback": [
        "\u001b[0;31m---------------------------------------------------------------------------\u001b[0m\n\u001b[0;31mNameError\u001b[0m                                 Traceback (most recent call last)",
        "\u001b[0;32m<ipython-input-45-58863787c1c4>\u001b[0m in \u001b[0;36m<module>\u001b[0;34m()\u001b[0m\n\u001b[1;32m      1\u001b[0m \u001b[0;32mfrom\u001b[0m \u001b[0mpandas\u001b[0m \u001b[0;32mimport\u001b[0m \u001b[0mDataFrame\u001b[0m\u001b[0;34m\u001b[0m\u001b[0m\n\u001b[1;32m      2\u001b[0m \u001b[0;34m\u001b[0m\u001b[0m\n\u001b[0;32m----> 3\u001b[0;31m \u001b[0mdf\u001b[0m \u001b[0;34m=\u001b[0m \u001b[0mDataFrame\u001b[0m\u001b[0;34m(\u001b[0m\u001b[0mdata\u001b[0m\u001b[0;34m)\u001b[0m\u001b[0;34m\u001b[0m\u001b[0m\n\u001b[0m\u001b[1;32m      4\u001b[0m \u001b[0mdf\u001b[0m\u001b[0;34m.\u001b[0m\u001b[0mhead\u001b[0m\u001b[0;34m(\u001b[0m\u001b[0;34m)\u001b[0m\u001b[0;34m\u001b[0m\u001b[0m\n",
        "\u001b[0;31mNameError\u001b[0m: name 'data' is not defined"
       ]
      }
     ],
     "prompt_number": 45
    },
    {
     "cell_type": "markdown",
     "metadata": {},
     "source": [
      "The actual data cleaning can now begins!"
     ]
    },
    {
     "cell_type": "code",
     "collapsed": false,
     "input": [
      "%load_ext rmagic"
     ],
     "language": "python",
     "metadata": {},
     "outputs": [],
     "prompt_number": 1
    },
    {
     "cell_type": "code",
     "collapsed": false,
     "input": [
      "%%R\n",
      "# install the necessary packages\n",
      "if(require(data.table)==FALSE)\n",
      "    install.packages(\"data.table\")\n",
      "if(require(xlsx)==FALSE)\n",
      "    install.packages(\"xlsx\")"
     ],
     "language": "python",
     "metadata": {},
     "outputs": [
      {
       "metadata": {},
       "output_type": "display_data",
       "text": [
        "Loading required package: data.table\n",
        "data.table 1.9.2  For help type: help(\"data.table\")\n",
        "Loading required package: xlsx\n",
        "Loading required package: rJava\n",
        "Loading required package: xlsxjars\n"
       ]
      }
     ],
     "prompt_number": 2
    },
    {
     "cell_type": "code",
     "collapsed": false,
     "input": [
      "%%R\n",
      "#load the necessary packages\n",
      "library(data.table)\n",
      "library(xlsx)\n",
      "library(base)"
     ],
     "language": "python",
     "metadata": {},
     "outputs": [],
     "prompt_number": 3
    },
    {
     "cell_type": "code",
     "collapsed": false,
     "input": [
      "%%R\n",
      "#grab csv files\n",
      "a = paste(getwd(), \"/*.csv\", sep=\"\")\n",
      "b = Sys.glob(a)\n",
      "c = lapply(b, fread)\n",
      "# Separate datafiles\n",
      "cpi <- c[[1]]\n",
      "gold <- c[[2]]\n",
      "silver <- c[[3]]"
     ],
     "language": "python",
     "metadata": {},
     "outputs": [],
     "prompt_number": 4
    },
    {
     "cell_type": "markdown",
     "metadata": {},
     "source": [
      "Looking at Gold"
     ]
    },
    {
     "cell_type": "code",
     "collapsed": false,
     "input": [
      "%%R\n",
      "\n",
      "#matching available time frames\n",
      "cpi_gold <- merge(cpi,gold, by=\"Date\")\n",
      "Date <- cpi_gold$Date\n",
      "CPI <- cpi_gold$Close.x\n",
      "Inflation <- cpi_gold$Inflation\n",
      "Gold <- cpi_gold$Close.y\n",
      "Change <- cpi_gold$Change"
     ],
     "language": "python",
     "metadata": {},
     "outputs": [],
     "prompt_number": 5
    },
    {
     "cell_type": "code",
     "collapsed": false,
     "input": [
      "%%R\n",
      "#conversion from matrix to DT to DF for gold prices\n",
      "cpi_gold_matrix <- cbind(Date, CPI, Gold)\n",
      "cpi_gold_table <- as.data.table(cpi_gold_matrix)\n",
      "setkey(cpi_gold_table, Date, CPI, Gold)\n",
      "DFG <- as.data.frame(cpi_gold_table)\n",
      "print(head(DFG))\n"
     ],
     "language": "python",
     "metadata": {},
     "outputs": [
      {
       "metadata": {},
       "output_type": "display_data",
       "text": [
        "        Date       CPI  Gold\n",
        "1 12/31/1257 0.4414265 0.889\n",
        "2 12/31/1258  0.475071 0.889\n",
        "3 12/31/1259  0.475071 0.889\n",
        "4 12/31/1260  0.475071 0.889\n",
        "5 12/31/1261  0.475071 0.889\n",
        "6 12/31/1262  0.475071 0.889\n"
       ]
      }
     ],
     "prompt_number": 6
    },
    {
     "cell_type": "code",
     "collapsed": false,
     "input": [
      "%%R\n",
      "#conversion from factor to numeric\n",
      "Gold_factor <- DFG$Gold\n",
      "CPI_factor <- DFG$CPI\n",
      "Gold_numbers <- as.numeric(levels(Gold_factor)[as.integer(Gold_factor)])\n",
      "CPI_numbers <- as.numeric(levels(CPI_factor)[as.integer(CPI_factor)])\n",
      "Date <- levels(DFG$Date)[DFG$Date]\n",
      "Date <- as.Date(Date, format=\"%m/%d/%Y\")\n",
      "Date <- year(Date)\n",
      "DFG$Date <- Date\n",
      "DFG$Gold <- Gold_numbers\n",
      "DFG$CPI <- CPI_numbers"
     ],
     "language": "python",
     "metadata": {},
     "outputs": [],
     "prompt_number": 7
    },
    {
     "cell_type": "code",
     "collapsed": false,
     "input": [
      "%%R\n",
      "print(head(DFG))"
     ],
     "language": "python",
     "metadata": {},
     "outputs": [
      {
       "metadata": {},
       "output_type": "display_data",
       "text": [
        "  Date       CPI  Gold\n",
        "1 1257 0.4414265 0.889\n",
        "2 1258 0.4750710 0.889\n",
        "3 1259 0.4750710 0.889\n",
        "4 1260 0.4750710 0.889\n",
        "5 1261 0.4750710 0.889\n",
        "6 1262 0.4750710 0.889\n"
       ]
      }
     ],
     "prompt_number": 9
    },
    {
     "cell_type": "code",
     "collapsed": false,
     "input": [
      "%%R\n",
      "\n",
      "#conversion from matrix to DT to DF (changes in gold prices)\n",
      "\n",
      "inflation_gchange_matrix = cbind(Date, Inflation, Change)\n",
      "inflation_gchange_table = as.data.table(inflation_gchange_matrix)\n",
      "setkey(inflation_gchange_table, Date, Inflation, Change)\n",
      "DFGC = as.data.frame(inflation_gchange_table)\n",
      "\n",
      "print(tail(DFGC))\n"
     ],
     "language": "python",
     "metadata": {},
     "outputs": [
      {
       "metadata": {},
       "output_type": "display_data",
       "text": [
        "    Date   Inflation     Change\n",
        "750 2006 0.044307058  0.2923575\n",
        "751 2007 0.040453873  0.4302549\n",
        "752 2008 0.009483167  0.1296494\n",
        "753 2009 0.023954908  0.3412162\n",
        "754 2010 0.047706422  0.2330029\n",
        "755 2011 0.048161121 -1.0000000\n"
       ]
      }
     ],
     "prompt_number": 10
    },
    {
     "cell_type": "markdown",
     "metadata": {},
     "source": [
      "Looking at Silver"
     ]
    },
    {
     "cell_type": "code",
     "collapsed": false,
     "input": [
      "%%R\n",
      "\n",
      "cpi_silver = merge(cpi, silver, by = \"Date\")\n",
      "Date = cpi_silver$Date\n",
      "CPI <- cpi_silver$Close.x\n",
      "Inflation <- cpi_silver$Inflation\n",
      "Silver <- cpi_silver$Close.y\n",
      "Change <- cpi_silver$Change"
     ],
     "language": "python",
     "metadata": {},
     "outputs": [],
     "prompt_number": 11
    },
    {
     "cell_type": "code",
     "collapsed": false,
     "input": [
      "%%R\n",
      "#conversion of matrix from DT to DF (silver prices)\n",
      "cpi_silver_matrix <- cbind(Date, CPI, Silver)\n",
      "cpi_silver_table <- as.data.table(cpi_silver_matrix)\n",
      "setkey(cpi_silver_table, Date, CPI, Silver)\n",
      "DFS <- as.data.frame(cpi_silver_table)"
     ],
     "language": "python",
     "metadata": {},
     "outputs": [],
     "prompt_number": 12
    },
    {
     "cell_type": "code",
     "collapsed": false,
     "input": [
      "%%R\n",
      "#conversion from factor to numeric (silver prices)\n",
      "Silver_factor <- DFS$Silver\n",
      "CPI_factor = DFS$CPI\n",
      "Silver_numbers <- as.numeric(levels(Silver_factor)[as.integer(Silver_factor)])\n",
      "CPI_numbers = as.numeric(levels(CPI_factor)[as.integer(CPI_factor)])\n",
      "DateS <- levels(DFS$Date)[DFS$Date]\n",
      "DateS <- as.Date(Date, \"%m/%d/%Y\")\n",
      "DateS <- year(DateS)\n",
      "DFS$Date = DateS\n",
      "DFS$Silver <- Silver_numbers\n",
      "DFS$CPI = CPI_numbers"
     ],
     "language": "python",
     "metadata": {},
     "outputs": [],
     "prompt_number": 13
    },
    {
     "cell_type": "code",
     "collapsed": false,
     "input": [
      "%%R\n",
      "#conversion of matrix from DT to DF (change in silver prices)\n",
      "inflation_schange_matrix <- cbind(Date, Inflation, Change)\n",
      "inflation_schange_table <- as.data.table(inflation_schange_matrix)\n",
      "setkey(inflation_schange_table, Date, Inflation, Change)\n",
      "DFSI <- as.data.frame(inflation_schange_table)\n",
      "\n",
      "print(lapply(DFSI, class))"
     ],
     "language": "python",
     "metadata": {},
     "outputs": [
      {
       "metadata": {},
       "output_type": "display_data",
       "text": [
        "$Date\n",
        "[1] \"factor\"\n",
        "\n",
        "$Inflation\n",
        "[1] \"factor\"\n",
        "\n",
        "$Change\n",
        "[1] \"factor\"\n",
        "\n"
       ]
      }
     ],
     "prompt_number": 14
    },
    {
     "cell_type": "code",
     "collapsed": false,
     "input": [
      "%%R\n",
      "\n",
      "#conversion from factor to numeric (change in silver prices)\n",
      "Schange_factor <- DFSI$Change\n",
      "Inflation_factor = DFSI$Inflation\n",
      "Schange_numbers <- as.numeric(levels(Schange_factor)[as.integer(Schange_factor)])\n",
      "Inflation_numbers = as.numeric(levels(Inflation_factor)[as.integer(Inflation_factor)])\n",
      "DateS <- levels(DFSI$Date)[DFSI$Date]\n",
      "DateS <- as.Date(Date, \"%m/%d/%Y\")\n",
      "DateS <- year(DateS)\n",
      "DFSI$Date = DateS\n",
      "DFSI$Change <- Schange_numbers\n",
      "DFSI$Inflation = Inflation_numbers\n",
      "\n",
      "print(lapply(DFSI, class))"
     ],
     "language": "python",
     "metadata": {},
     "outputs": [
      {
       "metadata": {},
       "output_type": "display_data",
       "text": [
        "$Date\n",
        "[1] \"integer\"\n",
        "\n",
        "$Inflation\n",
        "[1] \"numeric\"\n",
        "\n",
        "$Change\n",
        "[1] \"numeric\"\n",
        "\n"
       ]
      }
     ],
     "prompt_number": 15
    },
    {
     "cell_type": "code",
     "collapsed": false,
     "input": [
      "%%R\n",
      "\n",
      "print(tail(DFSI))"
     ],
     "language": "python",
     "metadata": {},
     "outputs": [
      {
       "metadata": {},
       "output_type": "display_data",
       "text": [
        "    Date   Inflation      Change\n",
        "749 2005 0.022116904  0.07025440\n",
        "750 2006 0.044307058  0.05971083\n",
        "751 2007 0.040453873  0.14512843\n",
        "752 2008 0.009483167  0.15216670\n",
        "753 2009 0.023954908 -0.03823706\n",
        "754 2010 0.047706422 -0.10768176\n"
       ]
      }
     ],
     "prompt_number": 16
    },
    {
     "cell_type": "code",
     "collapsed": false,
     "input": [],
     "language": "python",
     "metadata": {},
     "outputs": []
    }
   ],
   "metadata": {}
  }
 ]
}