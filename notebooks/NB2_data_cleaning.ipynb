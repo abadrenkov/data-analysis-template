{
 "metadata": {
  "name": ""
 },
 "nbformat": 3,
 "nbformat_minor": 0,
 "worksheets": [
  {
   "cells": [
    {
     "cell_type": "heading",
     "level": 1,
     "metadata": {},
     "source": [
      "Data Cleaning"
     ]
    },
    {
     "cell_type": "heading",
     "level": 2,
     "metadata": {},
     "source": [
      "Summary of Notebook:"
     ]
    },
    {
     "cell_type": "markdown",
     "metadata": {},
     "source": [
      "By data cleaning, we mean that we are taking the raw data sets that we have gathered and manipulating them into a form that we can readily access throughout our analysis. The raw data sets for gold prices and price changes, silver prices and price changes, CPI and inflation based on CPI, and wheat prices are all contained in separate CSV files, and these data sets all span across different dates.\n",
      "\n",
      "Specifically, we need to make sure that the variables that we are plotting and analyzing together will have dates that correspond with one another. We are also grouping variables into different data frame objects and then converting these back into CSV files that contain the selected groupings of data. These groupings will make it easier to generate meaningful plots and analysis.\n",
      "\n",
      "List of CSV files generated and their corresponding data groupings:\n",
      "\n",
      "* **DF_Gold.csv**: data on gold prices, CPI, and corresponding dates\n",
      "* **DF_Gold_Changes.csv**: data on gold price changes, inflation, and corresponding dates\n",
      "* **DF_Silver.csv**: contains data on silver prices, CPI, and corresponding dates\n",
      "* **DF_Silver_Inflation.csv**: data on silver price changes, inflation, and corresponding dates\n",
      "* **DF_Wheat.csv**: contains data on wheat prices, CPI, and corresponding dates\n",
      "* **DF_Wheat_change.csv**: data on changes in wheat prices, inflation, and corresponding dates\n",
      "* **DFG_positive_inflation.csv**: data on positive changes in gold price and positive inflation\n",
      "* **DFS_positive_inflation.csv**: data on positive changes in silver price and positive inflation\n",
      "* **GC_cluster1.csv**: data on gold prices, CPI, and dates from 1257 to 1900\n",
      "* **SI_cluster1.csv**: data on silver prices, CPI, and dates from 1257 to 1900\n",
      "* **wheat_cluster1.csv**: data on wheat prices, CPI, and dates from 1257 to 1900\n",
      "* **GC_cluster2.csv**: data on gold prices, CPI, and dates from 1900 to 2011\n",
      "* **SI_cluster2.csv**: data on silver prices, CPI, and dates from 1257 to 2011\n",
      "* **wheat_cluster2.csv**: data on wheat prices, CPI, and dates from 1550 to 2011\n",
      "* **gold_positive_inflation_cluster1.csv**: data on positive gold price changes and inflation from 1257 to 1900\n",
      "* **silver_positive_inflation_cluster1.csv**: data on positive silver price changes and inflation from 1257 to 1900\n",
      "* **wheat_positive_inflation_cluster1.csv**: data on positive wheat price changes and inflation from 1551 to 1900\n",
      "* **gold_positive_inflation_cluster2.csv**: data on positive gold price changes and inflation from 1900 to 2011\n",
      "* **silver_positive_inflation_cluster2.csv**: data on positive silver price changes and inflation from 1900 to 2011\n",
      "* **wheat_positive_inflation_cluster2.csv**: data on positive wheat price changes and inflation from 1900 to 2011"
     ]
    },
    {
     "cell_type": "markdown",
     "metadata": {},
     "source": [
      "##Team members responsible for this notebook:\n",
      "\n",
      "* **Alexander Badrenkov: Cleaning the Wheat data**\n",
      "* **Ivan Kho: Assist in CPI, Gold, Silver, Wheat cleaning**\n",
      "* **Tony Lin: Assist in CPI, Gold, Silver cleaning**\n",
      "* **Yvonne Ng: Assist in CPI, Gold, Silver cleaning**"
     ]
    },
    {
     "cell_type": "heading",
     "level": 3,
     "metadata": {},
     "source": [
      "The Cleaning begins"
     ]
    },
    {
     "cell_type": "markdown",
     "metadata": {},
     "source": [
      "Data Cleaning for the CPI, Gold, and Silver will involve R"
     ]
    },
    {
     "cell_type": "code",
     "collapsed": false,
     "input": [
      "%load_ext rmagic"
     ],
     "language": "python",
     "metadata": {},
     "outputs": [
      {
       "output_type": "stream",
       "stream": "stdout",
       "text": [
        "The rmagic extension is already loaded. To reload it, use:\n",
        "  %reload_ext rmagic\n"
       ]
      }
     ],
     "prompt_number": 177
    },
    {
     "cell_type": "markdown",
     "metadata": {},
     "source": [
      "We want to install the necessary packages if they are currently nonexistent. The package \"data.table\" is used for the function fread, which we use to read data from our CSV files to create data.table and data.frame objects. The package \"xlsx\" to read our raw wheat data xls files and to write the cleaned wheat data xls file."
     ]
    },
    {
     "cell_type": "code",
     "collapsed": false,
     "input": [
      "%%R\n",
      "\n",
      "if(require(data.table)==FALSE)\n",
      "    install.packages(\"data.table\")\n",
      "if(require(xlsx)==FALSE)\n",
      "    install.packages(\"xlsx\")"
     ],
     "language": "python",
     "metadata": {},
     "outputs": [
      {
       "metadata": {},
       "output_type": "display_data",
       "text": [
        "Loading required package: xlsx\n",
        "Loading required package: rJava\n",
        "Error : .onLoad failed in loadNamespace() for 'rJava', details:\n",
        "  call: dyn.load(file, DLLpath = DLLpath, ...)\n",
        "  error: unable to load shared object '/home/oski/R/x86_64-pc-linux-gnu-library/3.0/rJava/libs/rJava.so':\n",
        "  libjvm.so: cannot open shared object file: No such file or directory\n",
        "Failed with error:  \u2018package \u2018rJava\u2019 could not be loaded\u2019\n",
        "Installing package into \u2018/home/oski/R/x86_64-pc-linux-gnu-library/3.0\u2019\n",
        "(as \u2018lib\u2019 is unspecified)\n",
        "trying URL 'http://cran.cnr.Berkeley.edu/src/contrib/xlsx_0.5.5.tar.gz'\n",
        "Content type 'application/x-gzip' length 309524 bytes (302 Kb)\n",
        "opened URL\n",
        "==================================================\n",
        "downloaded 302 Kb\n",
        "\n",
        "\n",
        "The downloaded source packages are in\n",
        "\t\u2018/tmp/RtmpUiC2KM/downloaded_packages\u2019\n"
       ]
      }
     ],
     "prompt_number": 178
    },
    {
     "cell_type": "markdown",
     "metadata": {},
     "source": [
      "We load the necessary packages."
     ]
    },
    {
     "cell_type": "code",
     "collapsed": false,
     "input": [
      "%%R\n",
      "\n",
      "library(data.table)\n",
      "library(xlsx)\n",
      "library(base)"
     ],
     "language": "python",
     "metadata": {},
     "outputs": [
      {
       "output_type": "stream",
       "stream": "stdout",
       "text": [
        "Loading required package: rJava\n",
        "Error : .onLoad failed in loadNamespace() for 'rJava', details:\n",
        "  call: dyn.load(file, DLLpath = DLLpath, ...)\n",
        "  error: unable to load shared object '/home/oski/R/x86_64-pc-linux-gnu-library/3.0/rJava/libs/rJava.so':\n",
        "  libjvm.so: cannot open shared object file: No such file or directory\n",
        "Error: package \u2018rJava\u2019 could not be loaded\n"
       ]
      }
     ],
     "prompt_number": 35
    },
    {
     "cell_type": "markdown",
     "metadata": {},
     "source": [
      "Here, we load the necessary data files to begin working. To work with our CSV files containing the raw data for gold, silver and CPI, we have to set our working directory to the directory containing the three files. We then create a list of all the CSV file names and use these file names to create a list of data.frame objects containing the data. After we finish, we have to set our working directory back to the notebooks directory.\n",
      "\n",
      "Finally we take the list that we created and separate the data. The CPI and inflation data are stored in the variable cpi, the gold and gold price changes data are stored in the variable gold, and the silver and silver price changes data are stored in the variable silver."
     ]
    },
    {
     "cell_type": "code",
     "collapsed": false,
     "input": [
      "%%R\n",
      "#grab csv files\n",
      "setwd(\"..\")\n",
      "a = paste(getwd(), \"/data/raw/*.csv\", sep=\"\")\n",
      "b = Sys.glob(a)\n",
      "c = lapply(b, fread)\n",
      "setwd(\"notebooks\")\n",
      "\n",
      "# Separate datafiles\n",
      "cpi <- c[[1]]\n",
      "gold <- c[[2]]\n",
      "silver <- c[[3]]"
     ],
     "language": "python",
     "metadata": {},
     "outputs": [],
     "prompt_number": 179
    },
    {
     "cell_type": "heading",
     "level": 4,
     "metadata": {},
     "source": [
      "Gold:"
     ]
    },
    {
     "cell_type": "markdown",
     "metadata": {},
     "source": [
      "For the gold data, we want to separate it into two separate data.frame objects. One will contain the year to year gold prices while the other will contain the changes in gold price over year."
     ]
    },
    {
     "cell_type": "markdown",
     "metadata": {},
     "source": [
      "Since the CPI and gold data are of different lengths, we have to merge the two data.frame objects according to their corresponding dates."
     ]
    },
    {
     "cell_type": "code",
     "collapsed": false,
     "input": [
      "%%R\n",
      "# Because the datasets are of different lengths\n",
      "# we want to match available time frames\n",
      "cpi_gold <- merge(cpi,gold, by=\"Date\")\n",
      "Date <- cpi_gold$Date\n",
      "CPI <- cpi_gold$Close.x\n",
      "Inflation <- cpi_gold$Inflation\n",
      "Gold <- cpi_gold$Close.y\n",
      "Change <- cpi_gold$Change"
     ],
     "language": "python",
     "metadata": {},
     "outputs": [],
     "prompt_number": 180
    },
    {
     "cell_type": "markdown",
     "metadata": {},
     "source": [
      "We create a matrix from the vectors Date, CPI, and Gold that now contain the data, CPI, and gold data, making each  one a column. We then convert this matrix into a data.frame object that we call DFG."
     ]
    },
    {
     "cell_type": "code",
     "collapsed": false,
     "input": [
      "%%R\n",
      "\n",
      "# Conversion from matrix to DataFrame for gold prices\n",
      "cpi_gold_matrix <- cbind(Date, CPI, Gold)\n",
      "DFG <- as.data.frame(cpi_gold_matrix)\n"
     ],
     "language": "python",
     "metadata": {},
     "outputs": [],
     "prompt_number": 181
    },
    {
     "cell_type": "markdown",
     "metadata": {},
     "source": [
      "We print out the class of DFG as well as the first few entries of the DFG to verify that we did the conversion from matrix to data.frame correctly."
     ]
    },
    {
     "cell_type": "code",
     "collapsed": false,
     "input": [
      "%%R\n",
      "cat(\"Class of DFG:\", class(DFG), \"\\n\\n\")\n",
      "cat(\"First few entries of DFG:\", \"\\n\\n\")\n",
      "print(head(DFG))"
     ],
     "language": "python",
     "metadata": {},
     "outputs": [
      {
       "metadata": {},
       "output_type": "display_data",
       "text": [
        "Class of DFG: data.frame \n",
        "\n",
        "First few entries of DFG: \n",
        "\n",
        "        Date       CPI  Gold\n",
        "1 12/31/1257 0.4414265 0.889\n",
        "2 12/31/1258  0.475071 0.889\n",
        "3 12/31/1259  0.475071 0.889\n",
        "4 12/31/1260  0.475071 0.889\n",
        "5 12/31/1261  0.475071 0.889\n",
        "6 12/31/1262  0.475071 0.889\n"
       ]
      }
     ],
     "prompt_number": 182
    },
    {
     "cell_type": "markdown",
     "metadata": {},
     "source": [
      "We print out the classes of the column vectors in the data.frame DFG, noting they are of class factor."
     ]
    },
    {
     "cell_type": "code",
     "collapsed": false,
     "input": [
      "%%R\n",
      "print(lapply(DFG, class))"
     ],
     "language": "python",
     "metadata": {},
     "outputs": [
      {
       "metadata": {},
       "output_type": "display_data",
       "text": [
        "$Date\n",
        "[1] \"factor\"\n",
        "\n",
        "$CPI\n",
        "[1] \"factor\"\n",
        "\n",
        "$Gold\n",
        "[1] \"factor\"\n",
        "\n"
       ]
      }
     ],
     "prompt_number": 183
    },
    {
     "cell_type": "markdown",
     "metadata": {},
     "source": [
      "The column vectors in the data.frame DFG are currently set as factor. In order to work with the gold prices and gold price changes, we will need them to be in numeric form, so we grab the factors and convert them to numeric. For the date, we convert the data from factor to type Date."
     ]
    },
    {
     "cell_type": "code",
     "collapsed": false,
     "input": [
      "%%R\n",
      "# Conversion from factor to numeric\n",
      "Gold_factor <- DFG$Gold\n",
      "CPI_factor <- DFG$CPI\n",
      "Gold_numbers <- as.numeric(levels(Gold_factor)[as.integer(Gold_factor)])\n",
      "CPI_numbers <- as.numeric(levels(CPI_factor)[as.integer(CPI_factor)])\n",
      "Date <- levels(DFG$Date)[DFG$Date]\n",
      "Date <- as.Date(Date, format=\"%m/%d/%Y\")\n",
      "Date <- year(Date)\n",
      "DFG$Date <- Date\n",
      "DFG$Gold <- Gold_numbers\n",
      "DFG$CPI <- CPI_numbers"
     ],
     "language": "python",
     "metadata": {},
     "outputs": [],
     "prompt_number": 184
    },
    {
     "cell_type": "markdown",
     "metadata": {},
     "source": [
      "We print out the classes of the column vectors in the data.frame DFG again to check if the conversion from factor to numeric was performed correctly. We note that they are now numeric."
     ]
    },
    {
     "cell_type": "code",
     "collapsed": false,
     "input": [
      "%%R\n",
      "print(lapply(DFG, class))"
     ],
     "language": "python",
     "metadata": {},
     "outputs": [
      {
       "metadata": {},
       "output_type": "display_data",
       "text": [
        "$Date\n",
        "[1] \"integer\"\n",
        "\n",
        "$CPI\n",
        "[1] \"numeric\"\n",
        "\n",
        "$Gold\n",
        "[1] \"numeric\"\n",
        "\n"
       ]
      }
     ],
     "prompt_number": 185
    },
    {
     "cell_type": "markdown",
     "metadata": {},
     "source": [
      "We perform the same process for the changes in gold prices. We create a matrix by binding the date, inflation, and gold price changes data, which we then convert into a data.frame object."
     ]
    },
    {
     "cell_type": "code",
     "collapsed": false,
     "input": [
      "%%R\n",
      "\n",
      "# Conversion from matrix to DF for changes in gold prices\n",
      "\n",
      "inflation_gchange_matrix = cbind(Date, Inflation, Change)\n",
      "DFGC = as.data.frame(inflation_gchange_matrix)\n",
      "\n",
      "print(tail(DFGC))\n"
     ],
     "language": "python",
     "metadata": {},
     "outputs": [
      {
       "metadata": {},
       "output_type": "display_data",
       "text": [
        "    Date   Inflation     Change\n",
        "750 2006 0.044307058  0.2923575\n",
        "751 2007 0.040453873  0.4302549\n",
        "752 2008 0.009483167  0.1296494\n",
        "753 2009 0.023954908  0.3412162\n",
        "754 2010 0.047706422  0.2330029\n",
        "755 2011 0.048161121 -1.0000000\n"
       ]
      }
     ],
     "prompt_number": 186
    },
    {
     "cell_type": "markdown",
     "metadata": {},
     "source": [
      "We print out the class of DFGC as well as the first few entries of DFGC to verify that we did the conversion from matrix to data.frame correctly."
     ]
    },
    {
     "cell_type": "code",
     "collapsed": false,
     "input": [
      "%%R\n",
      "cat(\"Class of DFGC:\", class(DFGC), \"\\n\\n\")\n",
      "cat(\"First few entries of DFGC:\", \"\\n\\n\")\n",
      "print(head(DFGC))"
     ],
     "language": "python",
     "metadata": {},
     "outputs": [
      {
       "metadata": {},
       "output_type": "display_data",
       "text": [
        "Class of DFGC: data.frame \n",
        "\n",
        "First few entries of DFGC: \n",
        "\n",
        "  Date  Inflation Change\n",
        "1 1257 0.77185505     NA\n",
        "2 1258 0.07621767      0\n",
        "3 1259 0.00000000      0\n",
        "4 1260 0.00000000      0\n",
        "5 1261 0.00000000      0\n",
        "6 1262 0.00000000      0\n"
       ]
      }
     ],
     "prompt_number": 187
    },
    {
     "cell_type": "markdown",
     "metadata": {},
     "source": [
      "We print out the classes of the column vectors of DFGC, noting that they are already numeric. Thus, we do not have to perform the conversion from factor to numeric on the vectors as we had done for DFG."
     ]
    },
    {
     "cell_type": "code",
     "collapsed": false,
     "input": [
      "%%R\n",
      "print(lapply(DFGC, class))"
     ],
     "language": "python",
     "metadata": {},
     "outputs": [
      {
       "metadata": {},
       "output_type": "display_data",
       "text": [
        "$Date\n",
        "[1] \"numeric\"\n",
        "\n",
        "$Inflation\n",
        "[1] \"numeric\"\n",
        "\n",
        "$Change\n",
        "[1] \"numeric\"\n",
        "\n"
       ]
      }
     ],
     "prompt_number": 118
    },
    {
     "cell_type": "markdown",
     "metadata": {},
     "source": [
      "When we do our analysis, we will also want to look at the positive values of inflation. Our reasoning for this is that inflation is really only a concern to investors when it is positive--when price levels are rising and the currency and the value of certain goods are depreciating. We use logical indexing to create a new data.frame object called pos_DFGC that only contains the positive inflation data."
     ]
    },
    {
     "cell_type": "code",
     "collapsed": false,
     "input": [
      "%%R\n",
      "\n",
      "pos_DFGC <- DFGC[DFGC$Inflation > 0,]"
     ],
     "language": "python",
     "metadata": {},
     "outputs": [],
     "prompt_number": 154
    },
    {
     "cell_type": "markdown",
     "metadata": {},
     "source": [
      "We print out the first few entries of this positive inflation and gold price changes data.frame to see what it looks like."
     ]
    },
    {
     "cell_type": "code",
     "collapsed": false,
     "input": [
      "%%R\n",
      "print(head(pos_DFGC))"
     ],
     "language": "python",
     "metadata": {},
     "outputs": [
      {
       "metadata": {},
       "output_type": "display_data",
       "text": [
        "   Date  Inflation Change\n",
        "1  1257 0.77185505     NA\n",
        "2  1258 0.07621767      0\n",
        "8  1264 0.01543473      0\n",
        "10 1266 0.03750013      0\n",
        "13 1269 0.18571459      0\n",
        "14 1270 0.10362850      0\n"
       ]
      }
     ],
     "prompt_number": 155
    },
    {
     "cell_type": "heading",
     "level": 4,
     "metadata": {},
     "source": [
      "Writing cleaned gold files"
     ]
    },
    {
     "cell_type": "markdown",
     "metadata": {},
     "source": [
      "With the three data.frame objects that we have created to analyze the gold prices and changes in gold prices, we create our cleaned CSV files."
     ]
    },
    {
     "cell_type": "code",
     "collapsed": false,
     "input": [
      "%%R\n",
      "write.csv(DFG, \"../data/cleaned/DF_Gold.csv\")\n",
      "write.csv(DFGC, \"../data/cleaned/DF_Gold_Change.csv\")\n",
      "write.csv(pos_DFGC, \"../data/cleaned/DFG_positive_inflation.csv\")"
     ],
     "language": "python",
     "metadata": {},
     "outputs": [],
     "prompt_number": 61
    },
    {
     "cell_type": "heading",
     "level": 4,
     "metadata": {},
     "source": [
      "Silver:"
     ]
    },
    {
     "cell_type": "markdown",
     "metadata": {},
     "source": [
      "As for the gold data, we want to separate the silver data into two separate dataframes. One will contain the year to year data while the other will contain the changes over year.\n",
      "\n",
      "Again, we have to merge the CPI and silver price data because they have different lengths."
     ]
    },
    {
     "cell_type": "code",
     "collapsed": false,
     "input": [
      "%%R\n",
      "\n",
      "cpi_silver = merge(cpi, silver, by = \"Date\")\n",
      "Date = cpi_silver$Date\n",
      "CPI <- cpi_silver$Close.x\n",
      "Inflation <- cpi_silver$Inflation\n",
      "Silver <- cpi_silver$Close.y\n",
      "Change <- cpi_silver$Change"
     ],
     "language": "python",
     "metadata": {},
     "outputs": [],
     "prompt_number": 192
    },
    {
     "cell_type": "markdown",
     "metadata": {},
     "source": [
      "We create a matrix from the vectors Date, CPI, and Silver that now contain the date, CPI, and silver price data, making each one a column. We then convert this matrix into a data.frame object that we call DFS."
     ]
    },
    {
     "cell_type": "code",
     "collapsed": false,
     "input": [
      "%%R\n",
      "#conversion of matrix to DF for silver prices\n",
      "cpi_silver_matrix <- cbind(Date, CPI, Silver)\n",
      "DFS <- as.data.frame(cpi_silver_matrix)"
     ],
     "language": "python",
     "metadata": {},
     "outputs": [],
     "prompt_number": 193
    },
    {
     "cell_type": "markdown",
     "metadata": {},
     "source": [
      "We print out the class of DFS as well as the first few entries of DFS to verify that we did the conversion from matrix to data.frame correctly."
     ]
    },
    {
     "cell_type": "code",
     "collapsed": false,
     "input": [
      "%%R\n",
      "cat(\"Class of DFS:\", class(DFS), \"\\n\\n\")\n",
      "cat(\"First few entries of DFS:\", \"\\n\\n\")\n",
      "print(head(DFS))"
     ],
     "language": "python",
     "metadata": {},
     "outputs": [
      {
       "metadata": {},
       "output_type": "display_data",
       "text": [
        "Class of DFS: data.frame \n",
        "\n",
        "First few entries of DFS: \n",
        "\n",
        "        Date       CPI Silver\n",
        "1 12/31/1257 0.4414265 23.243\n",
        "2 12/31/1258  0.475071 23.243\n",
        "3 12/31/1259  0.475071 23.243\n",
        "4 12/31/1260  0.475071 23.243\n",
        "5 12/31/1261  0.475071 23.243\n",
        "6 12/31/1262  0.475071 23.243\n"
       ]
      }
     ],
     "prompt_number": 194
    },
    {
     "cell_type": "markdown",
     "metadata": {},
     "source": [
      "We print out the classes of the column vectors in the data.frame DFS, noting they are of class factor."
     ]
    },
    {
     "cell_type": "code",
     "collapsed": false,
     "input": [
      "%%R\n",
      "print(lapply(DFS, class))"
     ],
     "language": "python",
     "metadata": {},
     "outputs": [
      {
       "metadata": {},
       "output_type": "display_data",
       "text": [
        "$Date\n",
        "[1] \"factor\"\n",
        "\n",
        "$CPI\n",
        "[1] \"factor\"\n",
        "\n",
        "$Silver\n",
        "[1] \"factor\"\n",
        "\n"
       ]
      }
     ],
     "prompt_number": 195
    },
    {
     "cell_type": "markdown",
     "metadata": {},
     "source": [
      "The column vectors in the data.frame DFS are currently set as factor. In order to work with the silver prices and silver price changes, we will need them to be in numeric form, so we grab the factors and convert them to numeric. For the date, we convert the data from factor to type Date."
     ]
    },
    {
     "cell_type": "code",
     "collapsed": false,
     "input": [
      "%%R\n",
      "#conversion from factor to numeric (silver prices)\n",
      "Silver_factor <- DFS$Silver\n",
      "CPI_factor = DFS$CPI\n",
      "Silver_numbers <- as.numeric(levels(Silver_factor)[as.integer(Silver_factor)])\n",
      "CPI_numbers = as.numeric(levels(CPI_factor)[as.integer(CPI_factor)])\n",
      "DateS <- levels(DFS$Date)[DFS$Date]\n",
      "DateS <- as.Date(Date, \"%m/%d/%Y\")\n",
      "DateS <- year(DateS)\n",
      "DFS$Date = DateS\n",
      "DFS$Silver <- Silver_numbers\n",
      "DFS$CPI = CPI_numbers"
     ],
     "language": "python",
     "metadata": {},
     "outputs": [],
     "prompt_number": 196
    },
    {
     "cell_type": "markdown",
     "metadata": {},
     "source": [
      "We print out the classes of the column vectors in the data.frame DFS again to check if the conversion from factor to numeric was performed correctly. We note that they are now numeric."
     ]
    },
    {
     "cell_type": "code",
     "collapsed": false,
     "input": [
      "%%R\n",
      "print(lapply(DFS, class))"
     ],
     "language": "python",
     "metadata": {},
     "outputs": [
      {
       "metadata": {},
       "output_type": "display_data",
       "text": [
        "$Date\n",
        "[1] \"integer\"\n",
        "\n",
        "$CPI\n",
        "[1] \"numeric\"\n",
        "\n",
        "$Silver\n",
        "[1] \"numeric\"\n",
        "\n"
       ]
      }
     ],
     "prompt_number": 197
    },
    {
     "cell_type": "markdown",
     "metadata": {},
     "source": [
      "We perform the same process for the changes in silver prices. We create a matrix by binding the date, inflation, and silver price changes data, which we then convert into a data.frame object."
     ]
    },
    {
     "cell_type": "code",
     "collapsed": false,
     "input": [
      "%%R\n",
      "# Conversion of matrix to DF for change in silver prices\n",
      "inflation_schange_matrix <- cbind(Date, Inflation, Change)\n",
      "DFSI <- as.data.frame(inflation_schange_matrix)"
     ],
     "language": "python",
     "metadata": {},
     "outputs": [],
     "prompt_number": 198
    },
    {
     "cell_type": "markdown",
     "metadata": {},
     "source": [
      "We print out the class of the column vectors of the DFSI data.frame, noting that they are of class factor."
     ]
    },
    {
     "cell_type": "code",
     "collapsed": false,
     "input": [
      "%%R\n",
      "print(lapply(DFSI, class))"
     ],
     "language": "python",
     "metadata": {},
     "outputs": [
      {
       "metadata": {},
       "output_type": "display_data",
       "text": [
        "$Date\n",
        "[1] \"factor\"\n",
        "\n",
        "$Inflation\n",
        "[1] \"factor\"\n",
        "\n",
        "$Change\n",
        "[1] \"factor\"\n",
        "\n"
       ]
      }
     ],
     "prompt_number": 199
    },
    {
     "cell_type": "markdown",
     "metadata": {},
     "source": [
      "The column vectors in the data.frame DFSI are currently set as factor. In order to work with the silver prices and silver price changes, we will need them to be in numeric form, so we grab the factors and convert them to numeric. For the date, we convert the data from factor to type Date.\n"
     ]
    },
    {
     "cell_type": "code",
     "collapsed": false,
     "input": [
      "%%R\n",
      "\n",
      "#conversion from factor to numeric (change in silver prices)\n",
      "Schange_factor <- DFSI$Change\n",
      "Inflation_factor = DFSI$Inflation\n",
      "Schange_numbers <- as.numeric(levels(Schange_factor)[as.integer(Schange_factor)])\n",
      "Inflation_numbers = as.numeric(levels(Inflation_factor)[as.integer(Inflation_factor)])\n",
      "DateS <- levels(DFSI$Date)[DFSI$Date]\n",
      "DateS <- as.Date(Date, \"%m/%d/%Y\")\n",
      "DateS <- year(DateS)\n",
      "DFSI$Date = DateS\n",
      "DFSI$Change <- Schange_numbers\n",
      "DFSI$Inflation = Inflation_numbers\n",
      "\n",
      "print(lapply(DFSI, class))"
     ],
     "language": "python",
     "metadata": {},
     "outputs": [
      {
       "metadata": {},
       "output_type": "display_data",
       "text": [
        "$Date\n",
        "[1] \"integer\"\n",
        "\n",
        "$Inflation\n",
        "[1] \"numeric\"\n",
        "\n",
        "$Change\n",
        "[1] \"numeric\"\n",
        "\n"
       ]
      }
     ],
     "prompt_number": 200
    },
    {
     "cell_type": "markdown",
     "metadata": {},
     "source": [
      "We print out the classes of the column vectors in the data.frame DFSI again to check if the conversion from factor to numeric was performed correctly. We note that they are now numeric."
     ]
    },
    {
     "cell_type": "code",
     "collapsed": false,
     "input": [
      "%%R\n",
      "print(lapply((DFSI), class))"
     ],
     "language": "python",
     "metadata": {},
     "outputs": [
      {
       "metadata": {},
       "output_type": "display_data",
       "text": [
        "$Date\n",
        "[1] \"integer\"\n",
        "\n",
        "$Inflation\n",
        "[1] \"numeric\"\n",
        "\n",
        "$Change\n",
        "[1] \"numeric\"\n",
        "\n"
       ]
      }
     ],
     "prompt_number": 201
    },
    {
     "cell_type": "markdown",
     "metadata": {},
     "source": [
      "When we do our analysis, we will also want to look at the positive values of inflation. Our reasoning for this is that inflation is really only a concern to investors when it is positive--when price levels are rising and the currency and the value of certain goods are depreciating. We use logical indexing to create a new data.frame object called pos_DFSI that only contains the positive inflation data."
     ]
    },
    {
     "cell_type": "code",
     "collapsed": false,
     "input": [
      "%%R\n",
      "\n",
      "pos_DFSI <- DFSI[DFSI$Inflation > 0,]"
     ],
     "language": "python",
     "metadata": {},
     "outputs": [],
     "prompt_number": 202
    },
    {
     "cell_type": "markdown",
     "metadata": {},
     "source": [
      "We print out the first few entries of this positive inflation and silver price changes data.frame to see what it looks like."
     ]
    },
    {
     "cell_type": "code",
     "collapsed": false,
     "input": [
      "%%R\n",
      "print(head(pos_DFSI))"
     ],
     "language": "python",
     "metadata": {},
     "outputs": [
      {
       "metadata": {},
       "output_type": "display_data",
       "text": [
        "   Date  Inflation Change\n",
        "1  1257 0.77185505     NA\n",
        "2  1258 0.07621767      0\n",
        "8  1264 0.01543473      0\n",
        "10 1266 0.03750013      0\n",
        "13 1269 0.18571459      0\n",
        "14 1270 0.10362850      0\n"
       ]
      }
     ],
     "prompt_number": 203
    },
    {
     "cell_type": "heading",
     "level": 4,
     "metadata": {},
     "source": [
      "Writing cleaned Silver files"
     ]
    },
    {
     "cell_type": "markdown",
     "metadata": {},
     "source": [
      "With the three data.frame objects that we have created to analyze the silver prices and changes in silver prices, we create our cleaned CSV files."
     ]
    },
    {
     "cell_type": "code",
     "collapsed": false,
     "input": [
      "%%R\n",
      "write.csv(DFS, \"../data/cleaned/DF_silver.csv\")\n",
      "write.csv(DFSI, \"../data/cleaned/DF_Silver_Inflation.csv\")\n",
      "write.csv(pos_DFSI, \"../data/cleaned/DFS_positive_inflation.csv\")"
     ],
     "language": "python",
     "metadata": {},
     "outputs": [],
     "prompt_number": 204
    },
    {
     "cell_type": "markdown",
     "metadata": {},
     "source": [
      "**Procedure for wheat data: ** Below is the code that gathers the wheat data from 6 files (located in the raw data folder). <br>\n",
      "1. Load a file. <br>\n",
      "1. Grab the data for a certain year in our dictionary. <br>\n",
      "2. Check if that data is empty. If it is, we start a new list for the data points. If it isn't, we grab the list associated with the year we want. <br>\n",
      "3. For all the values for that year in our current file, add them to the list. <br>\n",
      "4. Repeat this for all the data in 5 files. <br>\n",
      "5. Sum all the values of the wheat per year. <br>\n",
      "6. Put these values in an array and save it to an excel file."
     ]
    },
    {
     "cell_type": "code",
     "collapsed": false,
     "input": [
      "import pandas as pd\n",
      "import numpy as np\n",
      "import matplotlib.pyplot as plt\n",
      "from pandas import DataFrame\n",
      "import xlwt\n",
      "from tempfile import TemporaryFile"
     ],
     "language": "python",
     "metadata": {},
     "outputs": [],
     "prompt_number": 20
    },
    {
     "cell_type": "markdown",
     "metadata": {},
     "source": [
      "**First File (1278-1536)**"
     ]
    },
    {
     "cell_type": "code",
     "collapsed": false,
     "input": [
      "# reading from the first xl file\n",
      "xl = pd.ExcelFile(\"../data/raw/Wheat_Prices_1278_1536.xls\")\n",
      "df = xl.parse(\"Wheat\")\n",
      "\n",
      "#gathering all the data into a dictionary by year\n",
      "dict1 = {}\n",
      "df2 = DataFrame(df)['Season']\n",
      "for i in range(0, len(df2)) :\n",
      "    x = df.iloc[i]['Season'][:4]\n",
      "    if x in dict1.keys() :\n",
      "        ls1 = dict1[x]\n",
      "    else:\n",
      "        ls1 = []\n",
      "    for j in range(2, 15) :\n",
      "        val = df.iloc[i][j]\n",
      "        if not np.isnan(val) :\n",
      "            ls1.append(val)\n",
      "    dict1[int(x)] = ls1"
     ],
     "language": "python",
     "metadata": {},
     "outputs": [],
     "prompt_number": 21
    },
    {
     "cell_type": "markdown",
     "metadata": {},
     "source": [
      "**Second File (1594-1681)**"
     ]
    },
    {
     "cell_type": "code",
     "collapsed": false,
     "input": [
      "# reading from the second xl file\n",
      "xl2 = pd.ExcelFile(\"../data/raw/Wheat_Prices_1594_1681.xls\")\n",
      "df3 = xl2.parse(\"Wheat\")\n",
      "\n",
      "#gathering all the data into a dictionary by year\n",
      "df4 = DataFrame(df3)['Season']\n",
      "for i in range(0, len(df4)) :\n",
      "    x = df3.iloc[i]['Season'][:4]\n",
      "    if x in dict1.keys() :\n",
      "        ls1 = dict1[x]\n",
      "    else:\n",
      "        ls1 = []\n",
      "    for j in range(1, 7) :\n",
      "        val = df3.iloc[i][j]\n",
      "        if not np.isnan(val) :\n",
      "            ls1.append(val)\n",
      "    dict1[int(x)] = ls1\t"
     ],
     "language": "python",
     "metadata": {},
     "outputs": [],
     "prompt_number": 22
    },
    {
     "cell_type": "markdown",
     "metadata": {},
     "source": [
      "**Third File (1657-1817)**"
     ]
    },
    {
     "cell_type": "code",
     "collapsed": false,
     "input": [
      "# reading from the third xl file\n",
      "xl3 = pd.ExcelFile(\"../data/raw/Wheat_Prices_1657_1817.xls\")\n",
      "df5 = xl3.parse(\"Wheat\")\n",
      "\n",
      "#gathering all the data into a dictionary by year\n",
      "df6 = DataFrame(df5)['Year']\n",
      "for i in range(0, len(df6)) :\n",
      "    x = df5.iloc[i]['Year']\n",
      "    if x in dict1.keys() :\n",
      "        ls1 = dict1[x]\n",
      "    else:\n",
      "        ls1 = []\n",
      "    for j in range(1, 6) :\n",
      "        val = df5.iloc[i][j]\n",
      "        if not np.isnan(val) :\n",
      "            ls1.append(val)\n",
      "    dict1[int(x)] = ls1\t"
     ],
     "language": "python",
     "metadata": {},
     "outputs": [],
     "prompt_number": 23
    },
    {
     "cell_type": "markdown",
     "metadata": {},
     "source": [
      "**Fourth File (1790-1850)**"
     ]
    },
    {
     "cell_type": "code",
     "collapsed": false,
     "input": [
      "# reading from the fourth xl file\n",
      "xl4 = pd.ExcelFile(\"../data/raw/Wheat_Prices_1790_1850_2.xls\")\n",
      "df7 = xl4.parse(\"Wheat\")\n",
      "\n",
      "#gathering all the data into a dictionary by year\n",
      "df8 = DataFrame(df7)['Year']\n",
      "for i in range(0, len(df8)) :\n",
      "    x = df7.iloc[i]['Year']\n",
      "    if x in dict1.keys() :\n",
      "        ls1 = dict1[x]\n",
      "    else:\n",
      "        ls1 = []\n",
      "    for j in range(1, 2) :\n",
      "        val = df7.iloc[i][j]\n",
      "        if not np.isnan(val) :\n",
      "            ls1.append(val)\n",
      "    dict1[int(x)] = ls1\t"
     ],
     "language": "python",
     "metadata": {},
     "outputs": [],
     "prompt_number": 24
    },
    {
     "cell_type": "markdown",
     "metadata": {},
     "source": [
      "**Fifth File (1850-1950)**"
     ]
    },
    {
     "cell_type": "code",
     "collapsed": false,
     "input": [
      "# reading from the fifth xl file\n",
      "xl5 = pd.ExcelFile(\"../data/raw/Wheat_Prices_1850_1950_2.xls\")\n",
      "df9 = xl5.parse(\"Wheat\")\n",
      "\n",
      "#gathering all the data into a dictionary by year\n",
      "df10 = DataFrame(df9)['Year']\n",
      "for i in range(0, len(df10)) :\n",
      "    x = df9.iloc[i]['Year']\n",
      "    if x in dict1.keys() :\n",
      "        ls1 = dict1[x]\n",
      "    else:\n",
      "        ls1 = []\n",
      "    for j in range(1, 2) :\n",
      "        val = df9.iloc[i][j]\n",
      "        if not np.isnan(val) :\n",
      "            ls1.append(val)\n",
      "    dict1[int(x)] = ls1\t\t"
     ],
     "language": "python",
     "metadata": {},
     "outputs": [],
     "prompt_number": 25
    },
    {
     "cell_type": "markdown",
     "metadata": {},
     "source": [
      "**Gathering the Averages per Year**"
     ]
    },
    {
     "cell_type": "code",
     "collapsed": false,
     "input": [
      "#gather averages of the data\n",
      "arr = []\n",
      "for k in range(280, 680):\n",
      "    if ((1270+k) in dict1.keys() and len(dict1[1270+k]) != 0) :\n",
      "        ls2 = dict1[1270+k]\n",
      "        sum = 0.0\n",
      "        counter = 0.0\n",
      "        for l in ls2:\n",
      "            sum = sum + l\n",
      "            counter = counter + 1\n",
      "        arr.append(sum/counter/20.0)\n",
      "    else:\n",
      "\t\tarr.append(None)"
     ],
     "language": "python",
     "metadata": {},
     "outputs": [],
     "prompt_number": 26
    },
    {
     "cell_type": "markdown",
     "metadata": {},
     "source": [
      "**Writing To a New Excel File**"
     ]
    },
    {
     "cell_type": "code",
     "collapsed": false,
     "input": [
      "#write to a excel file\n",
      "book = xlwt.Workbook()\n",
      "sheet1 = book.add_sheet('Wheat')\n",
      "for i,e in enumerate(arr):\n",
      "    sheet1.write(i,1,e)\n",
      "for i in range(0, 400):\n",
      "    sheet1.write(i,0,1550+i)\n",
      "sheet1.write(0,2,0)\n",
      "for i in range(1, 400):\n",
      "    if arr[i] != None and arr[i-1] != None :\n",
      "        sheet1.write(i,2,(arr[i]-arr[i-1])/arr[i-1])\n",
      "    else :\n",
      "        sheet1.write(i,2,0)\n",
      "\n",
      "name = \"Cleaned_Wheat.xls\"\n",
      "book.save(\"../data/cleaned/\"+name)"
     ],
     "language": "python",
     "metadata": {},
     "outputs": [],
     "prompt_number": 27
    },
    {
     "cell_type": "heading",
     "level": 3,
     "metadata": {},
     "source": [
      "Combining Wheat and Inflation data"
     ]
    },
    {
     "cell_type": "code",
     "collapsed": false,
     "input": [
      "%%R\n",
      "dfWheat <- read.xlsx(\"../data/cleaned/Cleaned_Wheat.xls\", sheetIndex = 1)"
     ],
     "language": "python",
     "metadata": {},
     "outputs": [],
     "prompt_number": 28
    },
    {
     "cell_type": "code",
     "collapsed": false,
     "input": [
      "%%R\n",
      "\n",
      "# To get the corresponding years\n",
      "cpi.sub <- cpi[343:741]\n",
      "\n",
      "year <- dfWheat[[1]]\n",
      "wheat <- dfWheat[[2]]\n",
      "Change <- dfWheat[[3]]\n",
      "cpi.sub$Wheat <- wheat\n",
      "\n",
      "Date <- cpi.sub$Date\n",
      "CPI <- cpi.sub$Close\n",
      "Inflation <- cpi.sub$Inflation\n",
      "Wheat <- cpi.sub$Wheat"
     ],
     "language": "python",
     "metadata": {},
     "outputs": [],
     "prompt_number": 29
    },
    {
     "cell_type": "code",
     "collapsed": false,
     "input": [
      "%%R\n",
      "\n",
      "# Conversion from matrix to DF for wheat prices\n",
      "cpi_wheat_matrix <- cbind(Date, CPI, Wheat)\n",
      "DFW <- as.data.frame(cpi_wheat_matrix)\n"
     ],
     "language": "python",
     "metadata": {},
     "outputs": [],
     "prompt_number": 30
    },
    {
     "cell_type": "code",
     "collapsed": false,
     "input": [
      "%%R\n",
      "\n",
      "# Conversion from matrix to DT to DF for changes in wheat prices\n",
      "inflation_wchange_matrix = cbind(Date, Inflation, Change)\n",
      "DFWC = as.data.frame(inflation_wchange_matrix)"
     ],
     "language": "python",
     "metadata": {},
     "outputs": [],
     "prompt_number": 31
    },
    {
     "cell_type": "code",
     "collapsed": false,
     "input": [
      "%%R\n",
      "\n",
      "# Conversion from factor to numeric for wheat prices\n",
      "Wheat_factor <- DFW$Wheat\n",
      "CPI_factor <- DFW$CPI\n",
      "Wheat_numbers <- as.numeric(levels(Wheat_factor)[as.integer(Wheat_factor)])\n",
      "CPI_numbers <- as.numeric(levels(CPI_factor)[as.integer(CPI_factor)])\n",
      "Date <- levels(DFW$Date)[DFW$Date]\n",
      "Date <- as.Date(Date, \"%m/%d/%Y\")\n",
      "Date <- year(Date)\n",
      "DFW$Date <- Date\n",
      "DFW$Wheat <- Wheat_numbers\n",
      "DFW$CPI <- CPI_numbers"
     ],
     "language": "python",
     "metadata": {},
     "outputs": [],
     "prompt_number": 32
    },
    {
     "cell_type": "code",
     "collapsed": false,
     "input": [
      "%%R\n",
      "\n",
      "print(head(DFW, 5))"
     ],
     "language": "python",
     "metadata": {},
     "outputs": [
      {
       "metadata": {},
       "output_type": "display_data",
       "text": [
        "  Date      CPI     Wheat\n",
        "1 1551 1.147901 1.1412500\n",
        "2 1552 1.111614 0.5178000\n",
        "3 1553 1.043147 0.4319438\n",
        "4 1554 1.111614        NA\n",
        "5 1555 1.087455 1.0365667\n"
       ]
      }
     ],
     "prompt_number": 33
    },
    {
     "cell_type": "code",
     "collapsed": false,
     "input": [
      "%%R\n",
      "\n",
      "#conversion from factor to numeric (changes in gold prices)\n",
      "Wchange_factor <- DFWC$Change\n",
      "Inflation_factor <- DFWC$Inflation\n",
      "Wchange_numbers <- as.numeric(levels(Wchange_factor)[as.integer(Wchange_factor)])\n",
      "Inflation_numbers <- as.numeric(levels(Inflation_factor)[as.integer(Inflation_factor)])\n",
      "Date <- levels(DFWC$Date)[DFWC$Date]\n",
      "Date <- as.Date(Date, \"%m/%d/%Y\")\n",
      "Date <- year(Date)\n",
      "DFWC$Date <- Date\n",
      "DFWC$Change <- Wchange_numbers\n",
      "DFWC$Inflation <- Inflation_numbers"
     ],
     "language": "python",
     "metadata": {},
     "outputs": [],
     "prompt_number": 34
    },
    {
     "cell_type": "code",
     "collapsed": false,
     "input": [
      "%%R\n",
      "\n",
      "print(head(DFWC,5))"
     ],
     "language": "python",
     "metadata": {},
     "outputs": [
      {
       "metadata": {},
       "output_type": "display_data",
       "text": [
        "  Date   Inflation     Change\n",
        "1 1551  0.08777455  0.0000000\n",
        "2 1552 -0.03161212 -0.5462870\n",
        "3 1553 -0.06159261 -0.1658097\n",
        "4 1554  0.06563526  0.0000000\n",
        "5 1555 -0.02173336  0.0000000\n"
       ]
      }
     ],
     "prompt_number": 35
    },
    {
     "cell_type": "markdown",
     "metadata": {},
     "source": [
      "We want positive inflation values"
     ]
    },
    {
     "cell_type": "code",
     "collapsed": false,
     "input": [
      "%%R\n",
      "pos_DFWC <- DFWC[DFWC$Inflation > 0,]"
     ],
     "language": "python",
     "metadata": {},
     "outputs": [],
     "prompt_number": 36
    },
    {
     "cell_type": "heading",
     "level": 4,
     "metadata": {},
     "source": [
      "Write data frames as csv files"
     ]
    },
    {
     "cell_type": "code",
     "collapsed": false,
     "input": [
      "%%R\n",
      "\n",
      "write.csv(DFW, \"../data/cleaned/DF_Wheat.csv\")\n",
      "write.csv(DFWC, \"../data/cleaned/DF_Wheat_change.csv\")\n",
      "write.csv(pos_DFWC, \"../data/cleaned/DFW_positive_inflation.csv\")"
     ],
     "language": "python",
     "metadata": {},
     "outputs": [],
     "prompt_number": 37
    },
    {
     "cell_type": "heading",
     "level": 3,
     "metadata": {},
     "source": [
      "Cluster data"
     ]
    },
    {
     "cell_type": "markdown",
     "metadata": {},
     "source": [
      "We want to separate  the data into 2 clusters (one from the years before 1900, and one after). We do all this by using logical indexing."
     ]
    },
    {
     "cell_type": "code",
     "collapsed": false,
     "input": [
      "%%R\n",
      "first_inflation_GC_cluster = DFGC[DFGC$Date < 1901, 2] #2 is Inflation, #3 is change in price\n",
      "second_inflation_GC_cluster = DFGC[DFGC$Date > 1900, 2]\n",
      "first_price_GC_cluster = DFGC[DFGC$Date < 1901, 3]\n",
      "second_price_GC_cluster = DFGC[DFGC$Date > 1900, 3]\n",
      "\n",
      "first_inflation_SI_cluster = DFSI[DFSI$Date < 1901, 2]\n",
      "second_inflation_SI_cluster = DFSI[DFSI$Date > 1900, 2]\n",
      "first_price_SI_cluster = DFSI[DFSI$Date < 1901, 3]\n",
      "second_price_SI_cluster = DFSI[DFSI$Date > 1900, 3]\n",
      "\n",
      "first_inflation_wheat_cluster = DFWC[DFWC$Date < 1901, 2] #2 is Inflation, #3 is change in price\n",
      "second_inflation_wheat_cluster = DFWC[DFWC$Date > 1900, 2]\n",
      "first_price_wheat_cluster = DFWC[DFWC$Date < 1901, 3]\n",
      "second_price_wheat_cluster = DFWC[DFWC$Date > 1900, 3]\n",
      "\n",
      "first_inflation_G_pos_cluster = pos_DFGC[pos_DFGC$Date < 1901, 2] \n",
      "second_inflation_G_pos_cluster = pos_DFGC[pos_DFGC$Date > 1900, 2]\n",
      "first_price_G_pos_cluster = pos_DFGC[pos_DFGC$Date < 1901, 3]\n",
      "second_price_G_pos_cluster = pos_DFGC[pos_DFGC$Date > 1900, 3]\n",
      "\n",
      "first_inflation_S_pos_cluster = pos_DFSI[pos_DFSI$Date < 1901, 2] \n",
      "second_inflation_S_pos_cluster = pos_DFSI[pos_DFSI$Date > 1900, 2]\n",
      "first_price_S_pos_cluster = pos_DFSI[pos_DFSI$Date < 1901, 3]\n",
      "second_price_S_pos_cluster = pos_DFSI[pos_DFSI$Date > 1900, 3]\n",
      "\n",
      "first_inflation_W_pos_cluster = pos_DFWC[pos_DFWC$Date < 1901, 2] \n",
      "second_inflation_W_pos_cluster = pos_DFWC[pos_DFWC$Date > 1900, 2]\n",
      "first_price_W_pos_cluster = pos_DFWC[pos_DFWC$Date < 1901, 3]\n",
      "second_price_W_pos_cluster = pos_DFWC[pos_DFWC$Date > 1900, 3]\n"
     ],
     "language": "python",
     "metadata": {},
     "outputs": [],
     "prompt_number": 38
    },
    {
     "cell_type": "markdown",
     "metadata": {},
     "source": [
      "Next, we turn the data into data frames"
     ]
    },
    {
     "cell_type": "code",
     "collapsed": false,
     "input": [
      "%%R\n",
      "\n",
      "GC_cluster1 = cbind(DFGC$Date[DFGC$Date < 1901], first_inflation_GC_cluster, first_price_GC_cluster)\n",
      "GC_cluster1 = as.data.table(GC_cluster1)\n",
      "GC_cluster1 = as.data.frame(GC_cluster1)\n",
      "names(GC_cluster1) = c(\"Date\", \"Inflation\", \"Change\")\n",
      "\n",
      "SI_cluster1 = cbind(DFSI$Date[DFSI$Date < 1901], first_inflation_SI_cluster, first_price_SI_cluster)\n",
      "SI_cluster1 = as.data.table(SI_cluster1)\n",
      "SI_cluster1 = as.data.frame(SI_cluster1)\n",
      "names(SI_cluster1) = c(\"Date\", \"Inflation\", \"Change\")\n",
      "\n",
      "wheat_cluster1 = cbind(DFWC$Date[DFWC$Date < 1901], first_inflation_wheat_cluster, first_price_wheat_cluster)\n",
      "wheat_cluster1 = as.data.frame(wheat_cluster1)\n",
      "names(wheat_cluster1) = c(\"Date\", \"Inflation\", \"Change\")\n",
      "\n",
      "gold_positive_inflation_cluster1 = cbind(pos_DFGC$Date[pos_DFGC$Date < 1901], first_inflation_G_pos_cluster, first_price_G_pos_cluster)\n",
      "gold_positive_inflation_cluster1 = as.data.frame(gold_positive_inflation_cluster1)\n",
      "names(gold_positive_inflation_cluster1) = c(\"Date\", \"Inflation\", \"Change\")\n",
      "\n",
      "silver_positive_inflation_cluster1 = cbind(pos_DFSI$Date[pos_DFSI$Date < 1901], first_inflation_S_pos_cluster, first_price_S_pos_cluster)\n",
      "silver_positive_inflation_cluster1 = as.data.frame(silver_positive_inflation_cluster1)\n",
      "names(silver_positive_inflation_cluster1) = c(\"Date\", \"Inflation\", \"Change\")\n",
      "\n",
      "wheat_positive_inflation_cluster1 = cbind(pos_DFWC$Date[pos_DFWC$Date < 1901], first_inflation_W_pos_cluster, first_price_W_pos_cluster)\n",
      "wheat_positive_inflation_cluster1 = as.data.frame(wheat_positive_inflation_cluster1)\n",
      "names(wheat_positive_inflation_cluster1) = c(\"Date\", \"Inflation\", \"Change\")"
     ],
     "language": "python",
     "metadata": {},
     "outputs": [],
     "prompt_number": 39
    },
    {
     "cell_type": "code",
     "collapsed": false,
     "input": [
      "%%R\n",
      "print(\"Gold\")\n",
      "print(head(GC_cluster1))\n"
     ],
     "language": "python",
     "metadata": {},
     "outputs": [
      {
       "metadata": {},
       "output_type": "display_data",
       "text": [
        "[1] \"Gold\"\n",
        "  Date  Inflation Change\n",
        "1 1257 0.77185505     NA\n",
        "2 1258 0.07621767      0\n",
        "3 1259 0.00000000      0\n",
        "4 1260 0.00000000      0\n",
        "5 1261 0.00000000      0\n",
        "6 1262 0.00000000      0\n"
       ]
      }
     ],
     "prompt_number": 40
    },
    {
     "cell_type": "code",
     "collapsed": false,
     "input": [
      "%%R\n",
      "print(\"Silver\")\n",
      "print(head(SI_cluster1))\n"
     ],
     "language": "python",
     "metadata": {},
     "outputs": [
      {
       "metadata": {},
       "output_type": "display_data",
       "text": [
        "[1] \"Silver\"\n",
        "  Date  Inflation      Change\n",
        "1 1257 0.77185505          NA\n",
        "2 1258 0.07621767 0.000000000\n",
        "3 1259 0.00000000 0.000000000\n",
        "4 1260 0.00000000 0.000000000\n",
        "5 1261 0.00000000 0.000000000\n",
        "6 1262 0.00000000 0.004474465\n"
       ]
      }
     ],
     "prompt_number": 41
    },
    {
     "cell_type": "code",
     "collapsed": false,
     "input": [
      "%%R\n",
      "\n",
      "print(\"Wheat\")\n",
      "print(head(wheat_cluster1))\n"
     ],
     "language": "python",
     "metadata": {},
     "outputs": [
      {
       "metadata": {},
       "output_type": "display_data",
       "text": [
        "[1] \"Wheat\"\n",
        "  Date   Inflation     Change\n",
        "1 1551  0.08777455  0.0000000\n",
        "2 1552 -0.03161212 -0.5462870\n",
        "3 1553 -0.06159261 -0.1658097\n",
        "4 1554  0.06563526  0.0000000\n",
        "5 1555 -0.02173336  0.0000000\n",
        "6 1556  0.37039033  0.5596440\n"
       ]
      }
     ],
     "prompt_number": 42
    },
    {
     "cell_type": "code",
     "collapsed": false,
     "input": [
      "%%R\n",
      "print(\"Positive Gold\")\n",
      "print(head(gold_positive_inflation_cluster1))\n"
     ],
     "language": "python",
     "metadata": {},
     "outputs": [
      {
       "metadata": {},
       "output_type": "display_data",
       "text": [
        "[1] \"Positive Gold\"\n",
        "  Date  Inflation   Change\n",
        "1 1257 0.77185505       NA\n",
        "2 1258 0.07621767 0.000000\n",
        "3 1264 0.01543473 0.200225\n",
        "4 1266 0.03750013 0.000000\n",
        "5 1269 0.18571459 0.000000\n",
        "6 1270 0.10362850 0.000000\n"
       ]
      }
     ],
     "prompt_number": 43
    },
    {
     "cell_type": "code",
     "collapsed": false,
     "input": [
      "%%R\n",
      "\n",
      "print(\"Positive Silver\")\n",
      "print(head(silver_positive_inflation_cluster1))\n"
     ],
     "language": "python",
     "metadata": {},
     "outputs": [
      {
       "metadata": {},
       "output_type": "display_data",
       "text": [
        "[1] \"Positive Silver\"\n",
        "  Date  Inflation Change\n",
        "1 1257 0.77185505     NA\n",
        "2 1258 0.07621767      0\n",
        "3 1264 0.01543473      0\n",
        "4 1266 0.03750013      0\n",
        "5 1269 0.18571459      0\n",
        "6 1270 0.10362850      0\n"
       ]
      }
     ],
     "prompt_number": 44
    },
    {
     "cell_type": "code",
     "collapsed": false,
     "input": [
      "%%R\n",
      "print(\"Positive Wheat\")\n",
      "print(head(wheat_positive_inflation_cluster1))"
     ],
     "language": "python",
     "metadata": {},
     "outputs": [
      {
       "metadata": {},
       "output_type": "display_data",
       "text": [
        "[1] \"Positive Wheat\"\n",
        "  Date  Inflation     Change\n",
        "1 1551 0.08777455  0.0000000\n",
        "2 1554 0.06563526  0.0000000\n",
        "3 1556 0.37039033  0.5596440\n",
        "4 1557 0.10540824 -0.7369636\n",
        "5 1559 0.10875306  0.0000000\n",
        "6 1560 0.03913911  0.0000000\n"
       ]
      }
     ],
     "prompt_number": 45
    },
    {
     "cell_type": "markdown",
     "metadata": {},
     "source": [
      "Combining inflation with gold, silver, wheat data into data frames"
     ]
    },
    {
     "cell_type": "code",
     "collapsed": false,
     "input": [
      "%%R\n",
      "GC_cluster2 = cbind(DFGC$Date[DFGC$Date > 1900], second_inflation_GC_cluster, second_price_GC_cluster)\n",
      "GC_cluster2 = as.data.table(GC_cluster2)\n",
      "GC_cluster2 = as.data.frame(GC_cluster2)\n",
      "names(GC_cluster2) = c(\"Date\", \"Inflation\", \"Change\")\n",
      "\n",
      "SI_cluster2 = cbind(DFSI$Date[DFSI$Date > 1900], second_inflation_SI_cluster, second_price_SI_cluster)\n",
      "SI_cluster2 = as.data.table(SI_cluster2)\n",
      "SI_cluster2 = as.data.frame(SI_cluster2)\n",
      "names(SI_cluster2) = c(\"Date\", \"Inflation\", \"Change\")\n",
      "\n",
      "wheat_cluster2 = cbind(DFWC$Date[DFWC$Date > 1900], second_inflation_wheat_cluster, second_price_wheat_cluster)\n",
      "wheat_cluster2 = as.data.frame(wheat_cluster2)\n",
      "names(wheat_cluster2) = c(\"Date\", \"Inflation\", \"Change\")\n",
      "\n",
      "gold_positive_inflation_cluster2 = cbind(pos_DFGC$Date[pos_DFGC$Date > 1900], second_inflation_G_pos_cluster, second_price_G_pos_cluster)\n",
      "gold_positive_inflation_cluster2 = as.data.frame(gold_positive_inflation_cluster2)\n",
      "names(gold_positive_inflation_cluster2) = c(\"Date\", \"Inflation\", \"Change\")\n",
      "\n",
      "silver_positive_inflation_cluster2 = cbind(pos_DFSI$Date[pos_DFSI$Date > 1900], second_inflation_S_pos_cluster, second_price_S_pos_cluster)\n",
      "silver_positive_inflation_cluster2 = as.data.frame(silver_positive_inflation_cluster2)\n",
      "names(silver_positive_inflation_cluster2) = c(\"Date\", \"Inflation\", \"Change\")\n",
      "\n",
      "wheat_positive_inflation_cluster2 = cbind(pos_DFWC$Date[pos_DFWC$Date > 1900], second_inflation_W_pos_cluster, second_price_W_pos_cluster)\n",
      "wheat_positive_inflation_cluster2 = as.data.frame(wheat_positive_inflation_cluster2)\n",
      "names(wheat_positive_inflation_cluster2) = c(\"Date\", \"Inflation\", \"Change\")"
     ],
     "language": "python",
     "metadata": {},
     "outputs": [],
     "prompt_number": 46
    },
    {
     "cell_type": "code",
     "collapsed": false,
     "input": [
      "%%R\n",
      "\n",
      "print(\"Gold\")\n",
      "print(head(GC_cluster2))\n"
     ],
     "language": "python",
     "metadata": {},
     "outputs": [
      {
       "metadata": {},
       "output_type": "display_data",
       "text": [
        "[1] \"Gold\"\n",
        "  Date  Inflation       Change\n",
        "1 1901 0.00000000  0.000257069\n",
        "2 1902 0.00000000  0.002313030\n",
        "3 1903 0.01086956 -0.001794872\n",
        "4 1904 0.00000000 -0.000256871\n",
        "5 1905 0.00000000 -0.001027749\n",
        "6 1906 0.00000000  0.002572016\n"
       ]
      }
     ],
     "prompt_number": 47
    },
    {
     "cell_type": "code",
     "collapsed": false,
     "input": [
      "%%R\n",
      "print(\"Silver\")\n",
      "print(head(SI_cluster2))\n"
     ],
     "language": "python",
     "metadata": {},
     "outputs": [
      {
       "metadata": {},
       "output_type": "display_data",
       "text": [
        "[1] \"Silver\"\n",
        "  Date  Inflation       Change\n",
        "1 1901 0.00000000  0.024660912\n",
        "2 1902 0.00000000  0.005706134\n",
        "3 1903 0.01086956  0.026731470\n",
        "4 1904 0.00000000  0.004469274\n",
        "5 1905 0.00000000 -0.016580311\n",
        "6 1906 0.00000000 -0.002932551\n"
       ]
      }
     ],
     "prompt_number": 48
    },
    {
     "cell_type": "code",
     "collapsed": false,
     "input": [
      "%%R\n",
      "print(\"Wheat\")\n",
      "print(head(wheat_cluster2))\n"
     ],
     "language": "python",
     "metadata": {},
     "outputs": [
      {
       "metadata": {},
       "output_type": "display_data",
       "text": [
        "[1] \"Wheat\"\n",
        "  Date  Inflation      Change\n",
        "1 1901 0.00000000  0.03025661\n",
        "2 1902 0.00000000  0.04460967\n",
        "3 1903 0.01086956 -0.04270463\n",
        "4 1904 0.00000000  0.05576208\n",
        "5 1905 0.00000000  0.04929577\n",
        "6 1906 0.00000000 -0.05033557\n"
       ]
      }
     ],
     "prompt_number": 49
    },
    {
     "cell_type": "code",
     "collapsed": false,
     "input": [
      "%%R\n",
      "\n",
      "print(\"Positive Gold\")\n",
      "print(head(gold_positive_inflation_cluster2))\n"
     ],
     "language": "python",
     "metadata": {},
     "outputs": [
      {
       "metadata": {},
       "output_type": "display_data",
       "text": [
        "[1] \"Positive Gold\"\n",
        "  Date  Inflation       Change\n",
        "1 1903 0.01086956 -0.001794872\n",
        "2 1907 0.01075268 -0.000513084\n",
        "3 1909 0.01063832  0.000000000\n",
        "4 1910 0.01052631  0.000000000\n",
        "5 1912 0.03124999  0.000000000\n",
        "6 1915 0.22066881 -0.004078546\n"
       ]
      }
     ],
     "prompt_number": 50
    },
    {
     "cell_type": "code",
     "collapsed": false,
     "input": [
      "%%R\n",
      "\n",
      "print(\"Positive Silver\")\n",
      "print(head(silver_positive_inflation_cluster2))\n"
     ],
     "language": "python",
     "metadata": {},
     "outputs": [
      {
       "metadata": {},
       "output_type": "display_data",
       "text": [
        "[1] \"Positive Silver\"\n",
        "  Date  Inflation       Change\n",
        "1 1903 0.01086956  0.026731470\n",
        "2 1907 0.01075268  0.018404908\n",
        "3 1909 0.01063832  0.007832898\n",
        "4 1910 0.01052631 -0.011124845\n",
        "5 1912 0.03124999 -0.012834225\n",
        "6 1915 0.22066881  0.022485207\n"
       ]
      }
     ],
     "prompt_number": 51
    },
    {
     "cell_type": "code",
     "collapsed": false,
     "input": [
      "%%R\n",
      "\n",
      "print(\"Positive Wheat\")\n",
      "print(head(wheat_positive_inflation_cluster2))"
     ],
     "language": "python",
     "metadata": {},
     "outputs": [
      {
       "metadata": {},
       "output_type": "display_data",
       "text": [
        "[1] \"Positive Wheat\"\n",
        "  Date  Inflation      Change\n",
        "1 1903 0.01086956 -0.04270463\n",
        "2 1907 0.01075268  0.08480565\n",
        "3 1909 0.01063832  0.12843750\n",
        "4 1910 0.01052631 -0.11935752\n",
        "5 1912 0.03124999  0.09748428\n",
        "6 1915 0.22066881  0.51742857\n"
       ]
      }
     ],
     "prompt_number": 52
    },
    {
     "cell_type": "heading",
     "level": 4,
     "metadata": {},
     "source": [
      "Writing clusters into CSV files"
     ]
    },
    {
     "cell_type": "code",
     "collapsed": false,
     "input": [
      "%%R\n",
      "\n",
      "write.csv(GC_cluster1, \"../data/cleaned/GC_cluster1.csv\")\n",
      "write.csv(GC_cluster2, \"../data/cleaned/GC_cluster2.csv\")\n",
      "write.csv(SI_cluster1, \"../data/cleaned/SI_cluster1.csv\")\n",
      "write.csv(SI_cluster2, \"../data/cleaned/SI_cluster2.csv\")\n",
      "write.csv(wheat_cluster1, \"../data/cleaned/wheat_cluster1.csv\")\n",
      "write.csv(wheat_cluster2, \"../data/cleaned/wheat_cluster2.csv\")\n",
      "write.csv(silver_positive_inflation_cluster1, \"../data/cleaned/silver_positive_inflation_cluster1.csv\")\n",
      "write.csv(silver_positive_inflation_cluster2, \"../data/cleaned/silver_positive_inflation_cluster2.csv\")\n",
      "write.csv(gold_positive_inflation_cluster1, \"../data/cleaned/gold_positive_inflation_cluster1.csv\")\n",
      "write.csv(gold_positive_inflation_cluster2, \"../data/cleaned/gold_positive_inflation_cluster2.csv\")\n",
      "write.csv(wheat_positive_inflation_cluster1, \"../data/cleaned/wheat_positive_inflation_cluster1.csv\")\n",
      "write.csv(wheat_positive_inflation_cluster2, \"../data/cleaned/wheat_positive_inflation_cluster2.csv\")"
     ],
     "language": "python",
     "metadata": {},
     "outputs": [],
     "prompt_number": 53
    }
   ],
   "metadata": {}
  }
 ]
}