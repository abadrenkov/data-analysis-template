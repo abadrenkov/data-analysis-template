{
 "metadata": {
  "name": ""
 },
 "nbformat": 3,
 "nbformat_minor": 0,
 "worksheets": [
  {
   "cells": [
    {
     "cell_type": "markdown",
     "metadata": {},
     "source": [
      "In this notebook, you'll\n",
      "\n",
      "* **load the raw data into R or Pandas dataframe** from the <code>./data/raw</code> directory using the functions and classes (written during the data gathering phase) in the <code>./script</code> directory\n",
      "\n",
      "\n",
      "* **perform visual exploration** on your data variables to detect anomalies, errors, outliers, interesting features etc.\n",
      "\n",
      "\n",
      "\n",
      "* **clean categorical and quantitative variables** (by removing observations and variables with too many missing values, by consolidating categorical variables, by selecting an appropriate subset of variables and observations for later analysis, etc.)\n",
      "\n",
      "\n",
      "* **save the cleaned data** into csv files in the <code>./data/cleaned</code> directory\n",
      "\n",
      "\n",
      "* **save interesting graphics** you obtained during visual exploration into the <code>./visualiation</code> directory"
     ]
    },
    {
     "cell_type": "markdown",
     "metadata": {},
     "source": [
      "##Team members responsible for this notebook:\n",
      "\n",
      "List the team members contributing to this notebook, along with their responsabilities:\n",
      "\n",
      "* team member 1 **name**: team member 1 **responsabilities**\n",
      "* team member 2 **name**: team member 2 **responsabilities**\n",
      "* etc.\n",
      "\n",
      "I advise you to work at least in pairs for each project notebook, as you did for the homework assignments. Of course, all team members may participate to each notebook. "
     ]
    },
    {
     "cell_type": "heading",
     "level": 2,
     "metadata": {},
     "source": [
      "Example"
     ]
    },
    {
     "cell_type": "markdown",
     "metadata": {},
     "source": [
      "Here I'll load the plant data in xml format into a R data frame using the \n",
      "\n",
      "    create_df_from_plant_xml(file)\n",
      "    \n",
      "function contained in the R script \n",
      "\n",
      "        ./script/plant_df-R"
     ]
    },
    {
     "cell_type": "code",
     "collapsed": false,
     "input": [
      "%load_ext rmagic"
     ],
     "language": "python",
     "metadata": {},
     "outputs": [
      {
       "output_type": "stream",
       "stream": "stdout",
       "text": [
        "The rmagic extension is already loaded. To reload it, use:\n",
        "  %reload_ext rmagic\n"
       ]
      }
     ],
     "prompt_number": 15
    },
    {
     "cell_type": "markdown",
     "metadata": {},
     "source": [
      "To load the function into a R cell, one needs to use the\n",
      "\n",
      "    source(R_script_file)\n",
      "command in R, which works in a similar way as the \n",
      "\n",
      "    import module\n",
      "command in Python:"
     ]
    },
    {
     "cell_type": "code",
     "collapsed": false,
     "input": [
      "%%R \n",
      "\n",
      "source('./script/plant_df-R')"
     ],
     "language": "python",
     "metadata": {},
     "outputs": [
      {
       "output_type": "stream",
       "stream": "stdout",
       "text": [
        "Error in file(filename, \"r\", encoding = encoding) : \n",
        "  cannot open the connection\n",
        "In addition: Warning message:\n",
        "In file(filename, \"r\", encoding = encoding) :\n",
        "  cannot open file './script/plant_df-R': No such file or directory\n",
        "Error in file(filename, \"r\", encoding = encoding) : \n",
        "  cannot open the connection\n"
       ]
      }
     ],
     "prompt_number": 16
    },
    {
     "cell_type": "markdown",
     "metadata": {},
     "source": [
      "Now, we can create a data frame directly from the XML file using the functin contained in the scrip above.\n",
      "\n",
      "If you wish to perform the cleaning using Pandas data frames instead of R data frames, one make the R data frame available to Python cells by using the R magic command:\n",
      "\n",
      "    %%R -d df_name\n",
      "\n",
      "To know more on how to pass variables back and forth between R and Python cells, please have a look at the notebook [here](http://nbviewer.ipython.org/url/github.com/ipython/ipython/raw/master/examples/notebooks/R%20Magics.ipynb)."
     ]
    },
    {
     "cell_type": "code",
     "collapsed": false,
     "input": [
      "%%R -d data\n",
      "\n",
      "library(XML)\n",
      "\n",
      "data = create_df_from_plant_xml('./data/raw/plant.xml')\n"
     ],
     "language": "python",
     "metadata": {},
     "outputs": [
      {
       "output_type": "stream",
       "stream": "stdout",
       "text": [
        "Error in eval(expr, envir, enclos) : \n",
        "  could not find function \"create_df_from_plant_xml\"\n"
       ]
      }
     ],
     "prompt_number": 44
    },
    {
     "cell_type": "markdown",
     "metadata": {},
     "source": [
      "Now let's load our data into a Pandas data frame:"
     ]
    },
    {
     "cell_type": "code",
     "collapsed": false,
     "input": [
      "from pandas import DataFrame\n",
      "\n",
      "df = DataFrame(data)\n",
      "df.head()"
     ],
     "language": "python",
     "metadata": {},
     "outputs": [
      {
       "ename": "NameError",
       "evalue": "name 'data' is not defined",
       "output_type": "pyerr",
       "traceback": [
        "\u001b[0;31m---------------------------------------------------------------------------\u001b[0m\n\u001b[0;31mNameError\u001b[0m                                 Traceback (most recent call last)",
        "\u001b[0;32m<ipython-input-45-58863787c1c4>\u001b[0m in \u001b[0;36m<module>\u001b[0;34m()\u001b[0m\n\u001b[1;32m      1\u001b[0m \u001b[0;32mfrom\u001b[0m \u001b[0mpandas\u001b[0m \u001b[0;32mimport\u001b[0m \u001b[0mDataFrame\u001b[0m\u001b[0;34m\u001b[0m\u001b[0m\n\u001b[1;32m      2\u001b[0m \u001b[0;34m\u001b[0m\u001b[0m\n\u001b[0;32m----> 3\u001b[0;31m \u001b[0mdf\u001b[0m \u001b[0;34m=\u001b[0m \u001b[0mDataFrame\u001b[0m\u001b[0;34m(\u001b[0m\u001b[0mdata\u001b[0m\u001b[0;34m)\u001b[0m\u001b[0;34m\u001b[0m\u001b[0m\n\u001b[0m\u001b[1;32m      4\u001b[0m \u001b[0mdf\u001b[0m\u001b[0;34m.\u001b[0m\u001b[0mhead\u001b[0m\u001b[0;34m(\u001b[0m\u001b[0;34m)\u001b[0m\u001b[0;34m\u001b[0m\u001b[0m\n",
        "\u001b[0;31mNameError\u001b[0m: name 'data' is not defined"
       ]
      }
     ],
     "prompt_number": 45
    },
    {
     "cell_type": "markdown",
     "metadata": {},
     "source": [
      "The actual data cleaning can now begins!"
     ]
    },
    {
     "cell_type": "code",
     "collapsed": false,
     "input": [
      "%load_ext rmagic"
     ],
     "language": "python",
     "metadata": {},
     "outputs": [
      {
       "ename": "ImportError",
       "evalue": "No module named rpy2.rinterface",
       "output_type": "pyerr",
       "traceback": [
        "\u001b[1;31m---------------------------------------------------------------------------\u001b[0m\n\u001b[1;31mImportError\u001b[0m                               Traceback (most recent call last)",
        "\u001b[1;32m<ipython-input-3-67efefd52de2>\u001b[0m in \u001b[0;36m<module>\u001b[1;34m()\u001b[0m\n\u001b[1;32m----> 1\u001b[1;33m \u001b[0mget_ipython\u001b[0m\u001b[1;33m(\u001b[0m\u001b[1;33m)\u001b[0m\u001b[1;33m.\u001b[0m\u001b[0mmagic\u001b[0m\u001b[1;33m(\u001b[0m\u001b[1;34mu'load_ext rmagic'\u001b[0m\u001b[1;33m)\u001b[0m\u001b[1;33m\u001b[0m\u001b[0m\n\u001b[0m",
        "\u001b[1;32mc:\\Users\\Sasha\\Anaconda\\lib\\site-packages\\IPython\\core\\interactiveshell.pyc\u001b[0m in \u001b[0;36mmagic\u001b[1;34m(self, arg_s)\u001b[0m\n\u001b[0;32m   2163\u001b[0m         \u001b[0mmagic_name\u001b[0m\u001b[1;33m,\u001b[0m \u001b[0m_\u001b[0m\u001b[1;33m,\u001b[0m \u001b[0mmagic_arg_s\u001b[0m \u001b[1;33m=\u001b[0m \u001b[0marg_s\u001b[0m\u001b[1;33m.\u001b[0m\u001b[0mpartition\u001b[0m\u001b[1;33m(\u001b[0m\u001b[1;34m' '\u001b[0m\u001b[1;33m)\u001b[0m\u001b[1;33m\u001b[0m\u001b[0m\n\u001b[0;32m   2164\u001b[0m         \u001b[0mmagic_name\u001b[0m \u001b[1;33m=\u001b[0m \u001b[0mmagic_name\u001b[0m\u001b[1;33m.\u001b[0m\u001b[0mlstrip\u001b[0m\u001b[1;33m(\u001b[0m\u001b[0mprefilter\u001b[0m\u001b[1;33m.\u001b[0m\u001b[0mESC_MAGIC\u001b[0m\u001b[1;33m)\u001b[0m\u001b[1;33m\u001b[0m\u001b[0m\n\u001b[1;32m-> 2165\u001b[1;33m         \u001b[1;32mreturn\u001b[0m \u001b[0mself\u001b[0m\u001b[1;33m.\u001b[0m\u001b[0mrun_line_magic\u001b[0m\u001b[1;33m(\u001b[0m\u001b[0mmagic_name\u001b[0m\u001b[1;33m,\u001b[0m \u001b[0mmagic_arg_s\u001b[0m\u001b[1;33m)\u001b[0m\u001b[1;33m\u001b[0m\u001b[0m\n\u001b[0m\u001b[0;32m   2166\u001b[0m \u001b[1;33m\u001b[0m\u001b[0m\n\u001b[0;32m   2167\u001b[0m     \u001b[1;31m#-------------------------------------------------------------------------\u001b[0m\u001b[1;33m\u001b[0m\u001b[1;33m\u001b[0m\u001b[0m\n",
        "\u001b[1;32mc:\\Users\\Sasha\\Anaconda\\lib\\site-packages\\IPython\\core\\interactiveshell.pyc\u001b[0m in \u001b[0;36mrun_line_magic\u001b[1;34m(self, magic_name, line)\u001b[0m\n\u001b[0;32m   2084\u001b[0m                 \u001b[0mkwargs\u001b[0m\u001b[1;33m[\u001b[0m\u001b[1;34m'local_ns'\u001b[0m\u001b[1;33m]\u001b[0m \u001b[1;33m=\u001b[0m \u001b[0msys\u001b[0m\u001b[1;33m.\u001b[0m\u001b[0m_getframe\u001b[0m\u001b[1;33m(\u001b[0m\u001b[0mstack_depth\u001b[0m\u001b[1;33m)\u001b[0m\u001b[1;33m.\u001b[0m\u001b[0mf_locals\u001b[0m\u001b[1;33m\u001b[0m\u001b[0m\n\u001b[0;32m   2085\u001b[0m             \u001b[1;32mwith\u001b[0m \u001b[0mself\u001b[0m\u001b[1;33m.\u001b[0m\u001b[0mbuiltin_trap\u001b[0m\u001b[1;33m:\u001b[0m\u001b[1;33m\u001b[0m\u001b[0m\n\u001b[1;32m-> 2086\u001b[1;33m                 \u001b[0mresult\u001b[0m \u001b[1;33m=\u001b[0m \u001b[0mfn\u001b[0m\u001b[1;33m(\u001b[0m\u001b[1;33m*\u001b[0m\u001b[0margs\u001b[0m\u001b[1;33m,\u001b[0m\u001b[1;33m**\u001b[0m\u001b[0mkwargs\u001b[0m\u001b[1;33m)\u001b[0m\u001b[1;33m\u001b[0m\u001b[0m\n\u001b[0m\u001b[0;32m   2087\u001b[0m             \u001b[1;32mreturn\u001b[0m \u001b[0mresult\u001b[0m\u001b[1;33m\u001b[0m\u001b[0m\n\u001b[0;32m   2088\u001b[0m \u001b[1;33m\u001b[0m\u001b[0m\n",
        "\u001b[1;32mc:\\Users\\Sasha\\Anaconda\\lib\\site-packages\\IPython\\core\\magics\\extension.pyc\u001b[0m in \u001b[0;36mload_ext\u001b[1;34m(self, module_str)\u001b[0m\n",
        "\u001b[1;32mc:\\Users\\Sasha\\Anaconda\\lib\\site-packages\\IPython\\core\\magic.pyc\u001b[0m in \u001b[0;36m<lambda>\u001b[1;34m(f, *a, **k)\u001b[0m\n\u001b[0;32m    189\u001b[0m     \u001b[1;31m# but it's overkill for just that one bit of state.\u001b[0m\u001b[1;33m\u001b[0m\u001b[1;33m\u001b[0m\u001b[0m\n\u001b[0;32m    190\u001b[0m     \u001b[1;32mdef\u001b[0m \u001b[0mmagic_deco\u001b[0m\u001b[1;33m(\u001b[0m\u001b[0marg\u001b[0m\u001b[1;33m)\u001b[0m\u001b[1;33m:\u001b[0m\u001b[1;33m\u001b[0m\u001b[0m\n\u001b[1;32m--> 191\u001b[1;33m         \u001b[0mcall\u001b[0m \u001b[1;33m=\u001b[0m \u001b[1;32mlambda\u001b[0m \u001b[0mf\u001b[0m\u001b[1;33m,\u001b[0m \u001b[1;33m*\u001b[0m\u001b[0ma\u001b[0m\u001b[1;33m,\u001b[0m \u001b[1;33m**\u001b[0m\u001b[0mk\u001b[0m\u001b[1;33m:\u001b[0m \u001b[0mf\u001b[0m\u001b[1;33m(\u001b[0m\u001b[1;33m*\u001b[0m\u001b[0ma\u001b[0m\u001b[1;33m,\u001b[0m \u001b[1;33m**\u001b[0m\u001b[0mk\u001b[0m\u001b[1;33m)\u001b[0m\u001b[1;33m\u001b[0m\u001b[0m\n\u001b[0m\u001b[0;32m    192\u001b[0m \u001b[1;33m\u001b[0m\u001b[0m\n\u001b[0;32m    193\u001b[0m         \u001b[1;32mif\u001b[0m \u001b[0mcallable\u001b[0m\u001b[1;33m(\u001b[0m\u001b[0marg\u001b[0m\u001b[1;33m)\u001b[0m\u001b[1;33m:\u001b[0m\u001b[1;33m\u001b[0m\u001b[0m\n",
        "\u001b[1;32mc:\\Users\\Sasha\\Anaconda\\lib\\site-packages\\IPython\\core\\magics\\extension.pyc\u001b[0m in \u001b[0;36mload_ext\u001b[1;34m(self, module_str)\u001b[0m\n\u001b[0;32m     60\u001b[0m         \u001b[1;32mif\u001b[0m \u001b[1;32mnot\u001b[0m \u001b[0mmodule_str\u001b[0m\u001b[1;33m:\u001b[0m\u001b[1;33m\u001b[0m\u001b[0m\n\u001b[0;32m     61\u001b[0m             \u001b[1;32mraise\u001b[0m \u001b[0mUsageError\u001b[0m\u001b[1;33m(\u001b[0m\u001b[1;34m'Missing module name.'\u001b[0m\u001b[1;33m)\u001b[0m\u001b[1;33m\u001b[0m\u001b[0m\n\u001b[1;32m---> 62\u001b[1;33m         \u001b[0mres\u001b[0m \u001b[1;33m=\u001b[0m \u001b[0mself\u001b[0m\u001b[1;33m.\u001b[0m\u001b[0mshell\u001b[0m\u001b[1;33m.\u001b[0m\u001b[0mextension_manager\u001b[0m\u001b[1;33m.\u001b[0m\u001b[0mload_extension\u001b[0m\u001b[1;33m(\u001b[0m\u001b[0mmodule_str\u001b[0m\u001b[1;33m)\u001b[0m\u001b[1;33m\u001b[0m\u001b[0m\n\u001b[0m\u001b[0;32m     63\u001b[0m \u001b[1;33m\u001b[0m\u001b[0m\n\u001b[0;32m     64\u001b[0m         \u001b[1;32mif\u001b[0m \u001b[0mres\u001b[0m \u001b[1;33m==\u001b[0m \u001b[1;34m'already loaded'\u001b[0m\u001b[1;33m:\u001b[0m\u001b[1;33m\u001b[0m\u001b[0m\n",
        "\u001b[1;32mc:\\Users\\Sasha\\Anaconda\\lib\\site-packages\\IPython\\core\\extensions.pyc\u001b[0m in \u001b[0;36mload_extension\u001b[1;34m(self, module_str)\u001b[0m\n\u001b[0;32m     96\u001b[0m             \u001b[1;32mif\u001b[0m \u001b[0mmodule_str\u001b[0m \u001b[1;32mnot\u001b[0m \u001b[1;32min\u001b[0m \u001b[0msys\u001b[0m\u001b[1;33m.\u001b[0m\u001b[0mmodules\u001b[0m\u001b[1;33m:\u001b[0m\u001b[1;33m\u001b[0m\u001b[0m\n\u001b[0;32m     97\u001b[0m                 \u001b[1;32mwith\u001b[0m \u001b[0mprepended_to_syspath\u001b[0m\u001b[1;33m(\u001b[0m\u001b[0mself\u001b[0m\u001b[1;33m.\u001b[0m\u001b[0mipython_extension_dir\u001b[0m\u001b[1;33m)\u001b[0m\u001b[1;33m:\u001b[0m\u001b[1;33m\u001b[0m\u001b[0m\n\u001b[1;32m---> 98\u001b[1;33m                     \u001b[0m__import__\u001b[0m\u001b[1;33m(\u001b[0m\u001b[0mmodule_str\u001b[0m\u001b[1;33m)\u001b[0m\u001b[1;33m\u001b[0m\u001b[0m\n\u001b[0m\u001b[0;32m     99\u001b[0m             \u001b[0mmod\u001b[0m \u001b[1;33m=\u001b[0m \u001b[0msys\u001b[0m\u001b[1;33m.\u001b[0m\u001b[0mmodules\u001b[0m\u001b[1;33m[\u001b[0m\u001b[0mmodule_str\u001b[0m\u001b[1;33m]\u001b[0m\u001b[1;33m\u001b[0m\u001b[0m\n\u001b[0;32m    100\u001b[0m             \u001b[1;32mif\u001b[0m \u001b[0mself\u001b[0m\u001b[1;33m.\u001b[0m\u001b[0m_call_load_ipython_extension\u001b[0m\u001b[1;33m(\u001b[0m\u001b[0mmod\u001b[0m\u001b[1;33m)\u001b[0m\u001b[1;33m:\u001b[0m\u001b[1;33m\u001b[0m\u001b[0m\n",
        "\u001b[1;32mc:\\Users\\Sasha\\Anaconda\\lib\\site-packages\\IPython\\extensions\\rmagic.py\u001b[0m in \u001b[0;36m<module>\u001b[1;34m()\u001b[0m\n\u001b[0;32m     53\u001b[0m \u001b[1;32mimport\u001b[0m \u001b[0mnumpy\u001b[0m \u001b[1;32mas\u001b[0m \u001b[0mnp\u001b[0m\u001b[1;33m\u001b[0m\u001b[0m\n\u001b[0;32m     54\u001b[0m \u001b[1;33m\u001b[0m\u001b[0m\n\u001b[1;32m---> 55\u001b[1;33m \u001b[1;32mimport\u001b[0m \u001b[0mrpy2\u001b[0m\u001b[1;33m.\u001b[0m\u001b[0mrinterface\u001b[0m \u001b[1;32mas\u001b[0m \u001b[0mri\u001b[0m\u001b[1;33m\u001b[0m\u001b[0m\n\u001b[0m\u001b[0;32m     56\u001b[0m \u001b[1;32mimport\u001b[0m \u001b[0mrpy2\u001b[0m\u001b[1;33m.\u001b[0m\u001b[0mrobjects\u001b[0m \u001b[1;32mas\u001b[0m \u001b[0mro\u001b[0m\u001b[1;33m\u001b[0m\u001b[0m\n\u001b[0;32m     57\u001b[0m \u001b[1;32mtry\u001b[0m\u001b[1;33m:\u001b[0m\u001b[1;33m\u001b[0m\u001b[0m\n",
        "\u001b[1;31mImportError\u001b[0m: No module named rpy2.rinterface"
       ]
      }
     ],
     "prompt_number": 3
    },
    {
     "cell_type": "code",
     "collapsed": false,
     "input": [
      "%%R\n",
      "# install the necessary packages\n",
      "if(require(data.table)==FALSE)\n",
      "    install.packages(\"data.table\")\n",
      "if(require(xlsx)==FALSE)\n",
      "    install.packages(\"xlsx\")"
     ],
     "language": "python",
     "metadata": {},
     "outputs": [
      {
       "output_type": "stream",
       "stream": "stderr",
       "text": [
        "ERROR: Cell magic `%%R` not found.\n"
       ]
      }
     ],
     "prompt_number": 2
    },
    {
     "cell_type": "code",
     "collapsed": false,
     "input": [
      "%%R\n",
      "#load the necessary packages\n",
      "library(data.table)\n",
      "library(xlsx)\n",
      "library(base)"
     ],
     "language": "python",
     "metadata": {},
     "outputs": [],
     "prompt_number": 3
    },
    {
     "cell_type": "code",
     "collapsed": false,
     "input": [
      "%%R\n",
      "#grab csv files\n",
      "a = paste(getwd(), \"/*.csv\", sep=\"\")\n",
      "b = Sys.glob(a)\n",
      "c = lapply(b, fread)\n",
      "# Separate datafiles\n",
      "cpi <- c[[1]]\n",
      "gold <- c[[2]]\n",
      "silver <- c[[3]]"
     ],
     "language": "python",
     "metadata": {},
     "outputs": [],
     "prompt_number": 4
    },
    {
     "cell_type": "markdown",
     "metadata": {},
     "source": [
      "Looking at Gold"
     ]
    },
    {
     "cell_type": "code",
     "collapsed": false,
     "input": [
      "%%R\n",
      "\n",
      "#matching available time frames\n",
      "cpi_gold <- merge(cpi,gold, by=\"Date\")\n",
      "Date <- cpi_gold$Date\n",
      "CPI <- cpi_gold$Close.x\n",
      "Inflation <- cpi_gold$Inflation\n",
      "Gold <- cpi_gold$Close.y\n",
      "Change <- cpi_gold$Change"
     ],
     "language": "python",
     "metadata": {},
     "outputs": [],
     "prompt_number": 5
    },
    {
     "cell_type": "code",
     "collapsed": false,
     "input": [
      "%%R\n",
      "#conversion from matrix to DT to DF for gold prices\n",
      "cpi_gold_matrix <- cbind(Date, CPI, Gold)\n",
      "cpi_gold_table <- as.data.table(cpi_gold_matrix)\n",
      "setkey(cpi_gold_table, Date, CPI, Gold)\n",
      "DFG <- as.data.frame(cpi_gold_table)\n",
      "print(head(DFG))\n"
     ],
     "language": "python",
     "metadata": {},
     "outputs": [
      {
       "metadata": {},
       "output_type": "display_data",
       "text": [
        "        Date       CPI  Gold\n",
        "1 12/31/1257 0.4414265 0.889\n",
        "2 12/31/1258  0.475071 0.889\n",
        "3 12/31/1259  0.475071 0.889\n",
        "4 12/31/1260  0.475071 0.889\n",
        "5 12/31/1261  0.475071 0.889\n",
        "6 12/31/1262  0.475071 0.889\n"
       ]
      }
     ],
     "prompt_number": 6
    },
    {
     "cell_type": "code",
     "collapsed": false,
     "input": [
      "%%R\n",
      "#conversion from factor to numeric\n",
      "Gold_factor <- DFG$Gold\n",
      "CPI_factor <- DFG$CPI\n",
      "Gold_numbers <- as.numeric(levels(Gold_factor)[as.integer(Gold_factor)])\n",
      "CPI_numbers <- as.numeric(levels(CPI_factor)[as.integer(CPI_factor)])\n",
      "Date <- levels(DFG$Date)[DFG$Date]\n",
      "Date <- as.Date(Date, format=\"%m/%d/%Y\")\n",
      "Date <- year(Date)\n",
      "DFG$Date <- Date\n",
      "DFG$Gold <- Gold_numbers\n",
      "DFG$CPI <- CPI_numbers"
     ],
     "language": "python",
     "metadata": {},
     "outputs": [],
     "prompt_number": 7
    },
    {
     "cell_type": "code",
     "collapsed": false,
     "input": [
      "%%R\n",
      "print(head(DFG))"
     ],
     "language": "python",
     "metadata": {},
     "outputs": [
      {
       "metadata": {},
       "output_type": "display_data",
       "text": [
        "  Date       CPI  Gold\n",
        "1 1257 0.4414265 0.889\n",
        "2 1258 0.4750710 0.889\n",
        "3 1259 0.4750710 0.889\n",
        "4 1260 0.4750710 0.889\n",
        "5 1261 0.4750710 0.889\n",
        "6 1262 0.4750710 0.889\n"
       ]
      }
     ],
     "prompt_number": 9
    },
    {
     "cell_type": "code",
     "collapsed": false,
     "input": [
      "%%R\n",
      "\n",
      "#conversion from matrix to DT to DF (changes in gold prices)\n",
      "\n",
      "inflation_gchange_matrix = cbind(Date, Inflation, Change)\n",
      "inflation_gchange_table = as.data.table(inflation_gchange_matrix)\n",
      "setkey(inflation_gchange_table, Date, Inflation, Change)\n",
      "DFGC = as.data.frame(inflation_gchange_table)\n",
      "\n",
      "print(tail(DFGC))\n"
     ],
     "language": "python",
     "metadata": {},
     "outputs": [
      {
       "metadata": {},
       "output_type": "display_data",
       "text": [
        "    Date   Inflation     Change\n",
        "750 2006 0.044307058  0.2923575\n",
        "751 2007 0.040453873  0.4302549\n",
        "752 2008 0.009483167  0.1296494\n",
        "753 2009 0.023954908  0.3412162\n",
        "754 2010 0.047706422  0.2330029\n",
        "755 2011 0.048161121 -1.0000000\n"
       ]
      }
     ],
     "prompt_number": 10
    },
    {
     "cell_type": "markdown",
     "metadata": {},
     "source": [
      "Looking at Silver"
     ]
    },
    {
     "cell_type": "code",
     "collapsed": false,
     "input": [
      "%%R\n",
      "\n",
      "cpi_silver = merge(cpi, silver, by = \"Date\")\n",
      "Date = cpi_silver$Date\n",
      "CPI <- cpi_silver$Close.x\n",
      "Inflation <- cpi_silver$Inflation\n",
      "Silver <- cpi_silver$Close.y\n",
      "Change <- cpi_silver$Change"
     ],
     "language": "python",
     "metadata": {},
     "outputs": [],
     "prompt_number": 11
    },
    {
     "cell_type": "code",
     "collapsed": false,
     "input": [
      "%%R\n",
      "#conversion of matrix from DT to DF (silver prices)\n",
      "cpi_silver_matrix <- cbind(Date, CPI, Silver)\n",
      "cpi_silver_table <- as.data.table(cpi_silver_matrix)\n",
      "setkey(cpi_silver_table, Date, CPI, Silver)\n",
      "DFS <- as.data.frame(cpi_silver_table)"
     ],
     "language": "python",
     "metadata": {},
     "outputs": [],
     "prompt_number": 12
    },
    {
     "cell_type": "code",
     "collapsed": false,
     "input": [
      "%%R\n",
      "#conversion from factor to numeric (silver prices)\n",
      "Silver_factor <- DFS$Silver\n",
      "CPI_factor = DFS$CPI\n",
      "Silver_numbers <- as.numeric(levels(Silver_factor)[as.integer(Silver_factor)])\n",
      "CPI_numbers = as.numeric(levels(CPI_factor)[as.integer(CPI_factor)])\n",
      "DateS <- levels(DFS$Date)[DFS$Date]\n",
      "DateS <- as.Date(Date, \"%m/%d/%Y\")\n",
      "DateS <- year(DateS)\n",
      "DFS$Date = DateS\n",
      "DFS$Silver <- Silver_numbers\n",
      "DFS$CPI = CPI_numbers"
     ],
     "language": "python",
     "metadata": {},
     "outputs": [],
     "prompt_number": 13
    },
    {
     "cell_type": "code",
     "collapsed": false,
     "input": [
      "%%R\n",
      "#conversion of matrix from DT to DF (change in silver prices)\n",
      "inflation_schange_matrix <- cbind(Date, Inflation, Change)\n",
      "inflation_schange_table <- as.data.table(inflation_schange_matrix)\n",
      "setkey(inflation_schange_table, Date, Inflation, Change)\n",
      "DFSI <- as.data.frame(inflation_schange_table)\n",
      "\n",
      "print(lapply(DFSI, class))"
     ],
     "language": "python",
     "metadata": {},
     "outputs": [
      {
       "metadata": {},
       "output_type": "display_data",
       "text": [
        "$Date\n",
        "[1] \"factor\"\n",
        "\n",
        "$Inflation\n",
        "[1] \"factor\"\n",
        "\n",
        "$Change\n",
        "[1] \"factor\"\n",
        "\n"
       ]
      }
     ],
     "prompt_number": 14
    },
    {
     "cell_type": "code",
     "collapsed": false,
     "input": [
      "%%R\n",
      "\n",
      "#conversion from factor to numeric (change in silver prices)\n",
      "Schange_factor <- DFSI$Change\n",
      "Inflation_factor = DFSI$Inflation\n",
      "Schange_numbers <- as.numeric(levels(Schange_factor)[as.integer(Schange_factor)])\n",
      "Inflation_numbers = as.numeric(levels(Inflation_factor)[as.integer(Inflation_factor)])\n",
      "DateS <- levels(DFSI$Date)[DFSI$Date]\n",
      "DateS <- as.Date(Date, \"%m/%d/%Y\")\n",
      "DateS <- year(DateS)\n",
      "DFSI$Date = DateS\n",
      "DFSI$Change <- Schange_numbers\n",
      "DFSI$Inflation = Inflation_numbers\n",
      "\n",
      "print(lapply(DFSI, class))"
     ],
     "language": "python",
     "metadata": {},
     "outputs": [
      {
       "metadata": {},
       "output_type": "display_data",
       "text": [
        "$Date\n",
        "[1] \"integer\"\n",
        "\n",
        "$Inflation\n",
        "[1] \"numeric\"\n",
        "\n",
        "$Change\n",
        "[1] \"numeric\"\n",
        "\n"
       ]
      }
     ],
     "prompt_number": 15
    },
    {
     "cell_type": "code",
     "collapsed": false,
     "input": [
      "%%R\n",
      "\n",
      "print(tail(DFSI))"
     ],
     "language": "python",
     "metadata": {},
     "outputs": [
      {
       "metadata": {},
       "output_type": "display_data",
       "text": [
        "    Date   Inflation      Change\n",
        "749 2005 0.022116904  0.07025440\n",
        "750 2006 0.044307058  0.05971083\n",
        "751 2007 0.040453873  0.14512843\n",
        "752 2008 0.009483167  0.15216670\n",
        "753 2009 0.023954908 -0.03823706\n",
        "754 2010 0.047706422 -0.10768176\n"
       ]
      }
     ],
     "prompt_number": 16
    },
    {
     "cell_type": "markdown",
     "metadata": {},
     "source": [
      "**Procedure for wheat data: ** Below is the code that gathers the wheat data from 6 files (located in the raw data folder). <br>\n",
      "1. Load a file. <br>\n",
      "1. Grab the data for a certain year in our dictionary. <br>\n",
      "2. Check if that data is empty. If it is, we start a new list for the data points. If it isn't, we grab the list associated with the year we want. <br>\n",
      "3. For all the values for that year in our current file, add them to the list. <br>\n",
      "4. Repeat this for all the data in 5 files. <br>\n",
      "5. Sum all the values of the wheat per year. <br>\n",
      "6. Put these values in an array and save it to an excel file."
     ]
    },
    {
     "cell_type": "code",
     "collapsed": false,
     "input": [
      "import pandas as pd\n",
      "import numpy as np\n",
      "import matplotlib.pyplot as plt\n",
      "from pandas import DataFrame\n",
      "import xlwt\n",
      "from tempfile import TemporaryFile"
     ],
     "language": "python",
     "metadata": {},
     "outputs": [],
     "prompt_number": 1
    },
    {
     "cell_type": "markdown",
     "metadata": {},
     "source": [
      "**First File (1278-1536)**"
     ]
    },
    {
     "cell_type": "code",
     "collapsed": false,
     "input": [
      "# reading from the first xl file\n",
      "xl = pd.ExcelFile(\"../data/raw/Wheat_Prices_1278_1536.xls\")\n",
      "df = xl.parse(\"Wheat\")\n",
      "\n",
      "#gathering all the data into a dictionary by year\n",
      "dict1 = {}\n",
      "df2 = DataFrame(df)['Season']\n",
      "for i in range(0, len(df2)) :\n",
      "    x = df.iloc[i]['Season'][:4]\n",
      "    if x in dict1.keys() :\n",
      "        ls1 = dict1[x]\n",
      "    else:\n",
      "        ls1 = []\n",
      "    for j in range(2, 15) :\n",
      "        val = df.iloc[i][j]\n",
      "        if not np.isnan(val) :\n",
      "            ls1.append(val)\n",
      "    dict1[int(x)] = ls1"
     ],
     "language": "python",
     "metadata": {},
     "outputs": [],
     "prompt_number": 9
    },
    {
     "cell_type": "markdown",
     "metadata": {},
     "source": [
      "**Second File (1594-1681)**"
     ]
    },
    {
     "cell_type": "code",
     "collapsed": false,
     "input": [
      "# reading from the second xl file\n",
      "xl2 = pd.ExcelFile(\"../data/raw/Wheat_Prices_1594_1681.xls\")\n",
      "df3 = xl2.parse(\"Wheat\")\n",
      "\n",
      "#gathering all the data into a dictionary by year\n",
      "df4 = DataFrame(df3)['Season']\n",
      "for i in range(0, len(df4)) :\n",
      "    x = df3.iloc[i]['Season'][:4]\n",
      "    if x in dict1.keys() :\n",
      "        ls1 = dict1[x]\n",
      "    else:\n",
      "        ls1 = []\n",
      "    for j in range(1, 7) :\n",
      "        val = df3.iloc[i][j]\n",
      "        if not np.isnan(val) :\n",
      "            ls1.append(val)\n",
      "    dict1[int(x)] = ls1\t"
     ],
     "language": "python",
     "metadata": {},
     "outputs": [],
     "prompt_number": 10
    },
    {
     "cell_type": "markdown",
     "metadata": {},
     "source": [
      "**Third File (1657-1817)**"
     ]
    },
    {
     "cell_type": "code",
     "collapsed": false,
     "input": [
      "# reading from the third xl file\n",
      "xl3 = pd.ExcelFile(\"../data/raw/Wheat_Prices_1657_1817.xls\")\n",
      "df5 = xl3.parse(\"Wheat\")\n",
      "\n",
      "#gathering all the data into a dictionary by year\n",
      "df6 = DataFrame(df5)['Year']\n",
      "for i in range(0, len(df6)) :\n",
      "    x = df5.iloc[i]['Year']\n",
      "    if x in dict1.keys() :\n",
      "        ls1 = dict1[x]\n",
      "    else:\n",
      "        ls1 = []\n",
      "    for j in range(1, 6) :\n",
      "        val = df5.iloc[i][j]\n",
      "        if not np.isnan(val) :\n",
      "            ls1.append(val)\n",
      "    dict1[int(x)] = ls1\t"
     ],
     "language": "python",
     "metadata": {},
     "outputs": [],
     "prompt_number": 11
    },
    {
     "cell_type": "markdown",
     "metadata": {},
     "source": [
      "**Fourth File (1790-1850)**"
     ]
    },
    {
     "cell_type": "code",
     "collapsed": false,
     "input": [
      "# reading from the fourth xl file\n",
      "xl4 = pd.ExcelFile(\"../data/raw/Wheat_Prices_1790_1850_2.xls\")\n",
      "df7 = xl4.parse(\"Wheat\")\n",
      "\n",
      "#gathering all the data into a dictionary by year\n",
      "df8 = DataFrame(df7)['Year']\n",
      "for i in range(0, len(df8)) :\n",
      "    x = df7.iloc[i]['Year']\n",
      "    if x in dict1.keys() :\n",
      "        ls1 = dict1[x]\n",
      "    else:\n",
      "        ls1 = []\n",
      "    for j in range(1, 2) :\n",
      "        val = df7.iloc[i][j]\n",
      "        if not np.isnan(val) :\n",
      "            ls1.append(val)\n",
      "    dict1[int(x)] = ls1\t"
     ],
     "language": "python",
     "metadata": {},
     "outputs": [],
     "prompt_number": 12
    },
    {
     "cell_type": "markdown",
     "metadata": {},
     "source": [
      "**Fifth File (1850-1950)**"
     ]
    },
    {
     "cell_type": "code",
     "collapsed": false,
     "input": [
      "# reading from the fifth xl file\n",
      "xl5 = pd.ExcelFile(\"../data/raw/Wheat_Prices_1850_1950_2.xls\")\n",
      "df9 = xl5.parse(\"Wheat\")\n",
      "\n",
      "#gathering all the data into a dictionary by year\n",
      "df10 = DataFrame(df9)['Year']\n",
      "for i in range(0, len(df10)) :\n",
      "    x = df9.iloc[i]['Year']\n",
      "    if x in dict1.keys() :\n",
      "        ls1 = dict1[x]\n",
      "    else:\n",
      "        ls1 = []\n",
      "    for j in range(1, 2) :\n",
      "        val = df9.iloc[i][j]\n",
      "        if not np.isnan(val) :\n",
      "            ls1.append(val)\n",
      "    dict1[int(x)] = ls1\t\t"
     ],
     "language": "python",
     "metadata": {},
     "outputs": [],
     "prompt_number": 13
    },
    {
     "cell_type": "markdown",
     "metadata": {},
     "source": [
      "**Gathering the Averages per Year**"
     ]
    },
    {
     "cell_type": "code",
     "collapsed": false,
     "input": [
      "#gather averages of the data\n",
      "arr = []\n",
      "for k in range(280, 680):\n",
      "    if ((1270+k) in dict1.keys() and len(dict1[1270+k]) != 0) :\n",
      "        ls2 = dict1[1270+k]\n",
      "        sum = 0.0\n",
      "        counter = 0.0\n",
      "        for l in ls2:\n",
      "            sum = sum + l\n",
      "            counter = counter + 1\n",
      "        arr.append(sum/counter/20.0)\n",
      "    else:\n",
      "\t\tarr.append(None)"
     ],
     "language": "python",
     "metadata": {},
     "outputs": [],
     "prompt_number": 14
    },
    {
     "cell_type": "markdown",
     "metadata": {},
     "source": [
      "**Writing To a New Excel File**"
     ]
    },
    {
     "cell_type": "code",
     "collapsed": false,
     "input": [
      "#write to a excel file\n",
      "book = xlwt.Workbook()\n",
      "sheet1 = book.add_sheet('Wheat')\n",
      "for i,e in enumerate(arr):\n",
      "    sheet1.write(i,1,e)\n",
      "for i in range(0, 400):\n",
      "    sheet1.write(i,0,1550+i)\n",
      "sheet1.write(0,2,0)\n",
      "for i in range(1, 400):\n",
      "    if arr[i] != None and arr[i-1] != None :\n",
      "        sheet1.write(i,2,arr[i]-arr[i-1])\n",
      "    else :\n",
      "        sheet1.write(i,2,0)\n",
      "\n",
      "name = \"Cleaned_Wheat.xls\"\n",
      "book.save(\"../data/cleaned/\"+name)"
     ],
     "language": "python",
     "metadata": {},
     "outputs": [],
     "prompt_number": 16
    }
   ],
   "metadata": {}
  }
 ]
}