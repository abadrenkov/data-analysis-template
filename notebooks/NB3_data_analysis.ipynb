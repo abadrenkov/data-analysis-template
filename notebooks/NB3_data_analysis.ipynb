{
 "metadata": {
  "name": ""
 },
 "nbformat": 3,
 "nbformat_minor": 0,
 "worksheets": [
  {
   "cells": [
    {
     "cell_type": "markdown",
     "metadata": {},
     "source": [
      "In this notebook, you'll perform the actual analysis of the data stored in the directory\n",
      "\n",
      "    ./data/cleaned\n",
      "\n",
      "If the data is not ready yet (e.g. the other members of the team in charge of cleaning the data are not done yet), you may want to simulate cleaned data in the form you want them to be in order to perform the analysis. This may also help you data cleaning team to come up with the rigth data frame. \n",
      "If you choose to do so, store your simulated data into the directory\n",
      "\n",
      "    ./data/simulated\n",
      "    \n",
      "Having performed analysis of simulated data may help you with the analysis of the actual data, since you will be able to notice deviations between the real and simulated data, which may be worth explaining and investigating further.\n",
      "\n",
      "The graphics your going to produce as a result of your analysis should be store in the directory:\n",
      "\n",
      "\n",
      "    ./visualization\n",
      "\n"
     ]
    },
    {
     "cell_type": "markdown",
     "metadata": {},
     "source": [
      "##Team members responsible for this notebook:\n",
      "\n",
      "List the team members contributing to this notebook, along with their responsabilities:\n",
      "\n",
      "* team member 1 **name**: team member 1 **responsabilities**\n",
      "* team member 2 **name**: team member 2 **responsabilities**\n",
      "* etc.\n",
      "\n",
      "I advise you to work at least in pairs for each project notebook, as you did for the homework assignments. Of course, all team members may participate to each notebook. "
     ]
    },
    {
     "cell_type": "code",
     "collapsed": false,
     "input": [
      "%load_ext rmagic"
     ],
     "language": "python",
     "metadata": {},
     "outputs": [
      {
       "output_type": "stream",
       "stream": "stdout",
       "text": [
        "The rmagic extension is already loaded. To reload it, use:\n",
        "  %reload_ext rmagic\n"
       ]
      }
     ],
     "prompt_number": 6
    },
    {
     "cell_type": "heading",
     "level": 1,
     "metadata": {},
     "source": [
      "Plots"
     ]
    },
    {
     "cell_type": "markdown",
     "metadata": {},
     "source": [
      "* In all of the graphs, the changes in CPI (i.e. inflation) are displayed red, and the changes in the price of the good are in blue.\n",
      "\n",
      "* The graphs \"Gold\" and \"Silver\" show the changes in gold price and the changes in silver price compared to inflation from 1257 to 2011.\n",
      "\n",
      "* The graphs \"Gold Cluster 1\" and \"Silver Cluster 1\" show the changes in gold prices and the changes in silver price compared to inflation from 1257 to 1900.\n",
      "\n",
      "* The graphs \"Gold Cluster 2\" and \"Silver Cluster 2\" show the changes in gold prices and the changes in silver price compared to inflation from 1900 to 2011."
     ]
    },
    {
     "cell_type": "code",
     "collapsed": false,
     "input": [
      "%%R\n",
      "source(\"/home/oski/data-analysis-template/script/Plot.R\")"
     ],
     "language": "python",
     "metadata": {},
     "outputs": [
      {
       "output_type": "stream",
       "stream": "stdout",
       "text": [
        "Error in file(filename, \"r\", encoding = encoding) : \n",
        "  cannot open the connection\n",
        "In addition: Warning message:\n",
        "In file(filename, \"r\", encoding = encoding) :\n",
        "  cannot open file 'Data_Cleaning.R': No such file or directory\n",
        "Error in file(filename, \"r\", encoding = encoding) : \n",
        "  cannot open the connection\n"
       ]
      }
     ],
     "prompt_number": 8
    },
    {
     "cell_type": "heading",
     "level": 1,
     "metadata": {},
     "source": [
      "Summary"
     ]
    },
    {
     "cell_type": "heading",
     "level": 3,
     "metadata": {},
     "source": [
      "Inflation (Changes in CPI)"
     ]
    },
    {
     "cell_type": "code",
     "collapsed": false,
     "input": [
      "%%R\n",
      "cat(\"From 1257 to 2011:\"); print(summary(DFGC$Inflation))"
     ],
     "language": "python",
     "metadata": {},
     "outputs": [
      {
       "output_type": "stream",
       "stream": "stdout",
       "text": [
        "From 1257 to 2011:Error in summary(DFGC$Inflation) : object 'DFGC' not found\n"
       ]
      }
     ],
     "prompt_number": 3
    },
    {
     "cell_type": "heading",
     "level": 3,
     "metadata": {},
     "source": [
      "Changes in Gold Price from 1257-2011"
     ]
    },
    {
     "cell_type": "code",
     "collapsed": false,
     "input": [
      "%%R\n",
      "print(summary(DFGC$Change))"
     ],
     "language": "python",
     "metadata": {},
     "outputs": [
      {
       "output_type": "stream",
       "stream": "stdout",
       "text": [
        "Error in summary(DFGC$Change) : object 'DFGC' not found\n"
       ]
      }
     ],
     "prompt_number": 4
    },
    {
     "cell_type": "heading",
     "level": 3,
     "metadata": {},
     "source": [
      "Changes in Silver Price from 1257-2011"
     ]
    },
    {
     "cell_type": "code",
     "collapsed": false,
     "input": [
      "%%R\n",
      "print(summary(DFSI$Change))"
     ],
     "language": "python",
     "metadata": {},
     "outputs": [
      {
       "output_type": "stream",
       "stream": "stdout",
       "text": [
        "Error in summary(DFSI$Change) : object 'DFSI' not found\n"
       ]
      }
     ],
     "prompt_number": 5
    },
    {
     "cell_type": "heading",
     "level": 1,
     "metadata": {},
     "source": [
      "Analysis"
     ]
    },
    {
     "cell_type": "heading",
     "level": 2,
     "metadata": {},
     "source": [
      "Price Changes from 1257-1900"
     ]
    },
    {
     "cell_type": "markdown",
     "metadata": {},
     "source": [
      "* Gold: The \"Gold Cluster 1\" graph shows that gold prices were relatively less volatile during this period. Changes in gold prices remained close to 0 even though inflation fluctuated between "
     ]
    }
   ],
   "metadata": {}
  }
 ]
}