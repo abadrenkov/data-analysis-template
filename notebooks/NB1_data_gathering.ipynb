{
 "metadata": {
  "name": ""
 },
 "nbformat": 3,
 "nbformat_minor": 0,
 "worksheets": [
  {
   "cells": [
    {
     "cell_type": "heading",
     "level": 1,
     "metadata": {},
     "source": [
      "Data Gathering"
     ]
    },
    {
     "cell_type": "markdown",
     "metadata": {},
     "source": [
      "<h2>Summary</h2>\n",
      "---------\n",
      "In this notebook, we gathered data on Gold, Silver, Wheat, and Inflation. The data gathered came in two formats: `xlsx` and `csv`. More details about where the data was found and a description of variables used can be found below."
     ]
    },
    {
     "cell_type": "markdown",
     "metadata": {},
     "source": [
      "##Important!!\n",
      "\n",
      "If the package `xlsx` does not run for you, please exit the notebook completely and run the following command in the bash:\n",
      "\n",
      "    R CMD javareconf -e\n",
      "    \n",
      "Then run the notebook once more. This makes it so that the package `xlsx` will run."
     ]
    },
    {
     "cell_type": "markdown",
     "metadata": {},
     "source": [
      "##Team members responsible for this notebook:\n",
      "\n",
      "* **Ivan Kho: Gathering the Cpi, Gold, and Silver data**\n",
      "* **Alexander Badrenkov: Gathering the Wheat data**\n",
      " "
     ]
    },
    {
     "cell_type": "markdown",
     "metadata": {},
     "source": [
      "###Creating the directory structure"
     ]
    },
    {
     "cell_type": "code",
     "collapsed": false,
     "input": [
      "%%bash\n",
      "\n",
      "mkdir ../script ../data ../data/raw ../data/cleaned  ../visualizations\n",
      "ls -r"
     ],
     "language": "python",
     "metadata": {},
     "outputs": [
      {
       "output_type": "stream",
       "stream": "stdout",
       "text": [
        "Wheat_Segmenting.R\n",
        "Wheat_Prices_1929_1955.xls\n",
        "Wheat_Prices_1850_1950_2.xlsx\n",
        "Wheat_Prices_1850_1950.xlsx\n",
        "Wheat_Prices_1790_1850_2.xlsx\n",
        "Wheat_Prices_1790_1850.xlsx\n",
        "Wheat_Prices_1657_1817.xls\n",
        "Wheat_Prices_1594_1681.xls\n",
        "Wheat_Prices_1278_1536.xls\n",
        "Wheat_Clean.py\n",
        "UK_silver Prices per oz. (1257-2011).csv\n",
        "UK_gold Prices (1257-2011).csv\n",
        "UK_CPI data.csv\n",
        "R_Wheat.R\n",
        "README.md\n",
        "READ.ME.txt\n",
        "NB4_project_report.ipynb\n",
        "NB3_data_analysis.ipynb\n",
        "NB2_data_cleaning.ipynb\n",
        "NB1_data_gathering.ipynb\n",
        "Data_Cleaning.R\n",
        "Cleaned_Wheat.xls\n"
       ]
      }
     ],
     "prompt_number": 1
    },
    {
     "cell_type": "heading",
     "level": 3,
     "metadata": {},
     "source": [
      "Downloading and displaying raw data"
     ]
    },
    {
     "cell_type": "code",
     "collapsed": false,
     "input": [
      "%load_ext rmagic"
     ],
     "language": "python",
     "metadata": {},
     "outputs": [],
     "prompt_number": 1
    },
    {
     "cell_type": "heading",
     "level": 3,
     "metadata": {},
     "source": [
      "Getting the Wheat Data"
     ]
    },
    {
     "cell_type": "markdown",
     "metadata": {},
     "source": [
      "These 6 files contain the wheat data that we will use. <br>\n",
      "These files will be in `.xls` and `.xlsx` format. <br>\n",
      "Data from 1278 to 1817 was obtained from the Internation Insititue of Social History: http://www.iisg.nl/hpw/ <br>\n",
      "Data from 1790 to 1950 was obtained from \"Commodity Price Volatility and World Market Integration since 1700\" http://www.sfu.ca/~djacks/data/publications/ <br>\n",
      "The prices of the wheat are split up into months or seasons (depending on the file) and are in shillings per quarter. <br>\n",
      "We used the curl command in bash to grab the excel files and saved them in the raw data folder."
     ]
    },
    {
     "cell_type": "code",
     "collapsed": false,
     "input": [
      "%%bash\n",
      "curl http://www.iisg.nl/hpw/varioustowns.xls >> ../data/raw/Wheat_Prices_1278_1536.xls\n",
      "curl http://www.iisg.nl/hpw/cambridge.xls >> ../data/raw/Wheat_Prices_1594_1681.xls\n",
      "curl http://www.iisg.nl/hpw/winchester.xls >> ../data/raw/Wheat_Prices_1657_1817.xls\n",
      "curl http://www.sfu.ca/~djacks/data/publications/Britain,%20Commodity%20Prices,%201790-1850,%20monthly.xlsx >> ../data/raw/Wheat_Prices_1790_1850.xls\n",
      "curl http://www.sfu.ca/~djacks/data/publications/Britain,%20Commodity%20Prices,%201850-1950,%20annual.xlsx >> ../data/raw/Wheat_Prices_1850_1950.xls\n",
      "curl http://www.iisg.nl/hpw/englandgrain2.xls >> ../data/raw/Wheat_Prices_1929_1955.xls\n"
     ],
     "language": "python",
     "metadata": {},
     "outputs": [
      {
       "output_type": "stream",
       "stream": "stderr",
       "text": [
        "  % Total    % Received % Xferd  Average Speed   Time    Time     Time  Current\n",
        "                                 Dload  Upload   Total   Spent    Left  Speed\n",
        "\r",
        "  0     0    0     0    0     0      0      0 --:--:-- --:--:-- --:--:--     0\r",
        "  9  127k    9 12726    0     0   9730      0  0:00:13  0:00:01  0:00:12 15987\r",
        " 64  127k   64 83678    0     0  36452      0  0:00:03  0:00:02  0:00:01 46904\r",
        "100  127k  100  127k    0     0  52277      0  0:00:02  0:00:02 --:--:-- 65740\n",
        "  % Total    % Received % Xferd  Average Speed   Time    Time     Time  Current\n",
        "                                 Dload  Upload   Total   Spent    Left  Speed\n",
        "\r",
        "  0     0    0     0    0     0      0      0 --:--:-- --:--:-- --:--:--     0\r",
        " 22 37888   22  8384    0     0  11280      0  0:00:03 --:--:--  0:00:03 11314\r",
        "100 37888  100 37888    0     0  33987      0  0:00:01  0:00:01 --:--:-- 34071\n",
        "  % Total    % Received % Xferd  Average Speed   Time    Time     Time  Current\n",
        "                                 Dload  Upload   Total   Spent    Left  Speed\n",
        "\r",
        "  0     0    0     0    0     0      0      0 --:--:-- --:--:-- --:--:--     0\r",
        " 35 36352   35 12709    0     0  17088      0  0:00:02 --:--:--  0:00:02 17128\r",
        "100 36352  100 36352    0     0  32635      0  0:00:01  0:00:01 --:--:-- 32720\n",
        "  % Total    % Received % Xferd  Average Speed   Time    Time     Time  Current\n",
        "                                 Dload  Upload   Total   Spent    Left  Speed\n",
        "\r",
        "  0     0    0     0    0     0      0      0 --:--:-- --:--:-- --:--:--     0\r",
        " 61  778k   61  482k    0     0  1041k      0 --:--:-- --:--:-- --:--:-- 1109k\r",
        "100  778k  100  778k    0     0  1362k      0 --:--:-- --:--:-- --:--:-- 1431k\n",
        "  % Total    % Received % Xferd  Average Speed   Time    Time     Time  Current\n",
        "                                 Dload  Upload   Total   Spent    Left  Speed\n",
        "\r",
        "  0     0    0     0    0     0      0      0 --:--:-- --:--:-- --:--:--     0\r",
        "100 91711  100 91711    0     0   491k      0 --:--:-- --:--:-- --:--:--  497k\n",
        "  % Total    % Received % Xferd  Average Speed   Time    Time     Time  Current\n",
        "                                 Dload  Upload   Total   Spent    Left  Speed\n",
        "\r",
        "  0     0    0     0    0     0      0      0 --:--:-- --:--:-- --:--:--     0\r",
        " 20 69120   20 14156    0     0  17762      0  0:00:03 --:--:--  0:00:03 17783\r",
        "100 69120  100 69120    0     0  49470      0  0:00:01  0:00:01 --:--:-- 49548\n"
       ]
      }
     ],
     "prompt_number": 2
    },
    {
     "cell_type": "markdown",
     "metadata": {},
     "source": [
      "Example of the wheat data: <br>\n",
      "**Season** refers to the year that the data was gathered. <br>\n",
      "**Michaelmas, Xmas, etc** refer to the time of year the data was gathered."
     ]
    },
    {
     "cell_type": "code",
     "collapsed": false,
     "input": [
      "%%R\n",
      "library(xlsx)\n",
      "print(head(read.xlsx(\"../data/raw/Wheat_Prices_1594_1681.xls\", sheetIndex=1)))"
     ],
     "language": "python",
     "metadata": {},
     "outputs": [
      {
       "metadata": {},
       "output_type": "display_data",
       "text": [
        "     Season Michaelmas   Xmas Candlemas Lady.Day Midsummer Lammas\n",
        "1 1594-1595     40.000 40.000    40.000   40.000    40.000 40.000\n",
        "2 1595-1596     40.000 38.333    40.000   27.333    40.000 60.000\n",
        "3 1596-1597     40.000 42.667    42.667   48.000    58.000 60.000\n",
        "4 1597-1598     40.000 48.000    50.667   45.333    42.667 42.667\n",
        "5 1598-1599     29.333 29.333    39.500   28.000    30.667 25.000\n",
        "6 1599-1600     23.333 24.000    25.000   25.333    40.000 37.333\n"
       ]
      }
     ],
     "prompt_number": 3
    },
    {
     "cell_type": "markdown",
     "metadata": {},
     "source": [
      "For the following two files, we only want to grab the wheat data instead of the data for other commodities. We do this by grabbing only certain columns of the excel file, labeling the row/column names, and then saving them to another file in the raw data folder."
     ]
    },
    {
     "cell_type": "code",
     "collapsed": false,
     "input": [
      "%%R\n",
      "file <- read.xlsx(\"../data/raw/Wheat_Prices_1790_1850.xls\", 1)\n",
      "segment <- file[-(1:5),c(\"NA.\",\"NA..23\")]\n",
      "names(segment) <- c(\"Year\", \"Price\")\n",
      "rownames(segment) <- 1:dim(segment)[1]\n",
      "write.xlsx(segment, \"../data/raw/Wheat_Prices_1790_1850_2.xls\", sheetName=\"Wheat\")\n",
      "\n",
      "file2 <- read.xlsx(\"../data/raw/Wheat_Prices_1850_1950.xls\", 1)\n",
      "segment <- file2[-(1:7),1:2]\n",
      "names(segment) <- c(\"Year\", \"Price\")\n",
      "rownames(segment) <- 1:dim(segment)[1]\n",
      "write.xlsx(segment, \"../data/raw/Wheat_Prices_1850_1950_2.xls\", sheetName=\"Wheat\")"
     ],
     "language": "python",
     "metadata": {},
     "outputs": [],
     "prompt_number": 4
    },
    {
     "cell_type": "markdown",
     "metadata": {},
     "source": [
      "**NA.** refers to the row names. <br>\n",
      "**Year** refers to the year the data was gathered. <br>\n",
      "**Price** refers to the price of the wheat in shillings per quarter."
     ]
    },
    {
     "cell_type": "code",
     "collapsed": false,
     "input": [
      "%%R\n",
      "print(head(read.xlsx(\"../data/raw/Wheat_Prices_1790_1850_2.xls\", sheetIndex = 1)))"
     ],
     "language": "python",
     "metadata": {},
     "outputs": [
      {
       "metadata": {},
       "output_type": "display_data",
       "text": [
        "  NA. Year Price\n",
        "1   1 1790    52\n",
        "2   2 1790  49.5\n",
        "3   3 1790  49.8\n",
        "4   4 1790    53\n",
        "5   5 1790    56\n",
        "6   6 1790    54\n"
       ]
      }
     ],
     "prompt_number": 6
    },
    {
     "cell_type": "heading",
     "level": 3,
     "metadata": {},
     "source": [
      "Getting the Gold, Silver, and CPI data"
     ]
    },
    {
     "cell_type": "markdown",
     "metadata": {},
     "source": [
      "The files were gotten from the GlobalFinancialData website here: https://www.globalfinancialdata.com/Databases/databases.html <br>\n",
      "There are no convienient APIs and you need a membership to grab the data, so they were loaded onto google drive, then downloaded below. <br>\n",
      "The files contain CPI, gold, and silver information. <br>\n",
      "The data files were downloaded in `.csv` format.\n",
      "\n",
      "The data consists of annual data. The price of Silver and Gold are given in Pounds per Ounce."
     ]
    },
    {
     "cell_type": "code",
     "collapsed": false,
     "input": [
      "%%bash\n",
      "curl  https://googledrive.com/host/0B40_9-iPWYmiNUdtNkdTQkoySUU >> \"../data/raw/UK_CPI data.csv\"\n",
      "curl  https://googledrive.com/host/0B40_9-iPWYmiZHJjQzI2ZHlnTkE >> \"../data/raw/UK_gold Prices (1257-2011).csv\"\n",
      "curl  https://googledrive.com/host/0B40_9-iPWYmidEdzelZ5cVRMamM >> \"../data/raw/UK_silver Prices per oz. (1257-2011).csv\""
     ],
     "language": "python",
     "metadata": {},
     "outputs": [
      {
       "output_type": "stream",
       "stream": "stderr",
       "text": [
        "  % Total    % Received % Xferd  Average Speed   Time    Time     Time  Current\n",
        "                                 Dload  Upload   Total   Spent    Left  Speed\n",
        "\r",
        "  0     0    0     0    0     0      0      0 --:--:-- --:--:-- --:--:--     0\r",
        "  0     0    0     0    0     0      0      0 --:--:-- --:--:-- --:--:--     0\r",
        "100 32531  100 32531    0     0   104k      0 --:--:-- --:--:-- --:--:--  115k\n",
        "  % Total    % Received % Xferd  Average Speed   Time    Time     Time  Current\n",
        "                                 Dload  Upload   Total   Spent    Left  Speed\n",
        "\r",
        "  0     0    0     0    0     0      0      0 --:--:-- --:--:-- --:--:--     0\r",
        "100 23559  100 23559    0     0  45154      0 --:--:-- --:--:-- --:--:-- 45305\n",
        "  % Total    % Received % Xferd  Average Speed   Time    Time     Time  Current\n",
        "                                 Dload  Upload   Total   Spent    Left  Speed\n",
        "\r",
        "  0     0    0     0    0     0      0      0 --:--:-- --:--:-- --:--:--     0\r",
        "  0  199k    0     0    0     0      0      0 --:--:-- --:--:-- --:--:--     0\r",
        "100  199k  100  199k    0     0   356k      0 --:--:-- --:--:-- --:--:--  357k\n"
       ]
      }
     ],
     "prompt_number": 1
    },
    {
     "cell_type": "code",
     "collapsed": false,
     "input": [
      "%%R\n",
      "print(head(read.csv(\"../data/raw/UK_CPI data.csv\")))"
     ],
     "language": "python",
     "metadata": {},
     "outputs": [
      {
       "metadata": {},
       "output_type": "display_data",
       "text": [
        "        Date Ticker     Close    Inflation\n",
        "1 12/31/1209 CPGBRM  0.211248             \n",
        "2 12/31/1210 CPGBRM  0.211248            0\n",
        "3 12/31/1211 CPGBRM 0.2322401  0.099371828\n",
        "4 12/31/1212 CPGBRM 0.2035141 -0.123690956\n",
        "5 12/31/1213 CPGBRM 0.2035141            0\n",
        "6 12/31/1214 CPGBRM 0.2063943  0.014152336\n"
       ]
      }
     ],
     "prompt_number": 17
    },
    {
     "cell_type": "markdown",
     "metadata": {},
     "source": [
      "The **Date**, **Close**, and **Inflation** factors are the frames we want to look at.<br>\n",
      "The **Date** refers to the date.<br>\n",
      "The **Close** refers to the CPI data.<br>\n",
      "The **Inflation** refers to the difference between the current and previous year's CPI."
     ]
    },
    {
     "cell_type": "code",
     "collapsed": false,
     "input": [
      "%%R\n",
      "print(head(read.csv(\"../data/raw/UK_gold Prices (1257-2011).csv\")))"
     ],
     "language": "python",
     "metadata": {},
     "outputs": [
      {
       "metadata": {},
       "output_type": "display_data",
       "text": [
        "        Date  Ticker Close Change\n",
        "1 12/31/1257 CMGCGBW 0.889     NA\n",
        "2 12/31/1258 CMGCGBW 0.889      0\n",
        "3 12/31/1259 CMGCGBW 0.889      0\n",
        "4 12/31/1260 CMGCGBW 0.889      0\n",
        "5 12/31/1261 CMGCGBW 0.889      0\n",
        "6 12/31/1262 CMGCGBW 0.889      0\n"
       ]
      }
     ],
     "prompt_number": 18
    },
    {
     "cell_type": "markdown",
     "metadata": {},
     "source": [
      "The **Date**, **Close**, and **Change** are the important columns we want to look at. <br>\n",
      "The **Close** references the price of Gold, while the **Change** refers to the difference between the current and prior year's data."
     ]
    },
    {
     "cell_type": "code",
     "collapsed": false,
     "input": [
      "%%R\n",
      "print(head(read.csv(\"../data/raw/UK_silver Prices per oz. (1257-2011).csv\")))"
     ],
     "language": "python",
     "metadata": {},
     "outputs": [
      {
       "metadata": {},
       "output_type": "display_data",
       "text": [
        "        Date  Ticker   Open   High    Low  Close      Change\n",
        "1 12/31/1257 CMSIGBW 23.243 23.243 23.243 23.243          NA\n",
        "2 12/31/1258 CMSIGBW 23.243 23.243 23.243 23.243 0.000000000\n",
        "3 12/31/1259 CMSIGBW 23.243 23.243 23.243 23.243 0.000000000\n",
        "4 12/31/1260 CMSIGBW 23.243 23.243 23.243 23.243 0.000000000\n",
        "5 12/31/1261 CMSIGBW 23.243 23.243 23.243 23.243 0.000000000\n",
        "6 12/31/1262 CMSIGBW 23.243 23.243 23.243 23.243 0.004474465\n"
       ]
      }
     ],
     "prompt_number": 19
    },
    {
     "cell_type": "markdown",
     "metadata": {},
     "source": [
      "The **Date**, **Close**, and **Change** are the important columns we want to look at. <br>\n",
      "The **Close** references the price of Silver, while the **Change** refers to the difference between the current and prior year's data."
     ]
    }
   ],
   "metadata": {}
  }
 ]
}