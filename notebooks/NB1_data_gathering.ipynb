{
 "metadata": {
  "name": ""
 },
 "nbformat": 3,
 "nbformat_minor": 0,
 "worksheets": [
  {
   "cells": [
    {
     "cell_type": "heading",
     "level": 1,
     "metadata": {},
     "source": [
      "IMPORTANT!!"
     ]
    },
    {
     "cell_type": "markdown",
     "metadata": {},
     "source": [
      "Please close the notebook and run the following command\n",
      "\n",
      "    R CMD javareconf -e\n",
      "    \n",
      "This makes it so that the package `xlsx` will run"
     ]
    },
    {
     "cell_type": "heading",
     "level": 3,
     "metadata": {},
     "source": [
      "Instructions"
     ]
    },
    {
     "cell_type": "markdown",
     "metadata": {},
     "source": [
      "In this notebook, you'll\n",
      "\n",
      "* create the directory structure for your project\n",
      "* download the raw data for your project\n",
      "* **write functions and classes to transform raw data (e.g in XML, jason, etc.) into data frames**\n",
      "* explain what your are doing"
     ]
    },
    {
     "cell_type": "markdown",
     "metadata": {},
     "source": [
      "##Team members responsible for this notebook:\n",
      "\n",
      "List the team members contributing to this notebook, along with their responsibilities:\n",
      "\n",
      "* Team member 1 - **Ivan Kho: Gathering the cpi, gold, and silver data**\n",
      "* Team member 2 - **Alexander Badrenkov: Gathering the wheat data**\n",
      "* etc.\n",
      "\n",
      "I advise you to work at least in pairs for each project notebook, as you did for the homework assignments. Of course, all team members may participate to each notebook. "
     ]
    },
    {
     "cell_type": "markdown",
     "metadata": {},
     "source": [
      "##Instructions:\n",
      "\n",
      "In **markdown cells**, you'll\n",
      "\n",
      "* list and describe the data sources for your class project\n",
      "    * provide the data urls\n",
      "    * describe the file formats\n",
      "    * explain the data content of each file\n",
      "   \n",
      "**Remark:** If your data is not directly available through the web (for instance, you requested it from a company, or got it from Inna or Henry), place you data into your personal bdrive, and provide a link to it, that you'll use in this notebook to download it into the data folder, as explained below).\n",
      "\n",
      "\n",
      "In **code cells**, you'll\n",
      "\n",
      "* create the following directories:\n",
      "\n",
      "        ./data\n",
      "        ./data/raw        # to store your raw data\n",
      "        ./data/cleaned    # to store the cleanned data\n",
      "        ./data/simulated  # to store simulated data\n",
      "        ./visualizations  # to store your plots\n",
      "\n",
      "\n",
      "* display samples of your data files (e.g. for a csv files, use data frames and the <code>head</code> method)\n",
      "\n",
      "\n",
      "*  Write **scripts** into the <code>./script</code> directory using the he **magic command** \n",
      "\n",
      "    %%file ./script/file_name\n",
      "    \n",
      "Your scripts should contain **functions** and **objects** allowing you to\n",
      "\n",
      "* download the actual raw data in the directory <code>./data/raw</code>\n",
      "\n",
      "\n",
      "* load the downloaded the raw data files into data frames\n",
      "\n",
      "This way, the functions and objects contained in your scripts will be accessible in other notebooks through the <code>import</code> command in Python (see example below).\n",
      "\n",
      "\n",
      "**Remark 1:** In the code cells, you may use Python, R, or Bash, as you find more convenient.\n",
      "\n",
      "\n",
      "**Remark 2:** Try to make your notebook as readable and usable (by others) as possible."
     ]
    },
    {
     "cell_type": "markdown",
     "metadata": {},
     "source": [
      "###Creating the directory structure"
     ]
    },
    {
     "cell_type": "code",
     "collapsed": false,
     "input": [
      "%%bash\n",
      "\n",
      "mkdir ../script ../data ../data/raw ../data/cleaned  ../visualizations\n",
      "ls -r"
     ],
     "language": "python",
     "metadata": {},
     "outputs": [
      {
       "output_type": "stream",
       "stream": "stdout",
       "text": [
        "Wheat_Segmenting.R\n",
        "Wheat_Prices_1929_1955.xls\n",
        "Wheat_Prices_1850_1950_2.xlsx\n",
        "Wheat_Prices_1850_1950.xlsx\n",
        "Wheat_Prices_1790_1850_2.xlsx\n",
        "Wheat_Prices_1790_1850.xlsx\n",
        "Wheat_Prices_1657_1817.xls\n",
        "Wheat_Prices_1594_1681.xls\n",
        "Wheat_Prices_1278_1536.xls\n",
        "Wheat_Clean.py\n",
        "UK_silver Prices per oz. (1257-2011).csv\n",
        "UK_gold Prices (1257-2011).csv\n",
        "UK_CPI data.csv\n",
        "R_Wheat.R\n",
        "README.md\n",
        "READ.ME.txt\n",
        "NB4_project_report.ipynb\n",
        "NB3_data_analysis.ipynb\n",
        "NB2_data_cleaning.ipynb\n",
        "NB1_data_gathering.ipynb\n",
        "Data_Cleaning.R\n",
        "Cleaned_Wheat.xls\n"
       ]
      }
     ],
     "prompt_number": 1
    },
    {
     "cell_type": "heading",
     "level": 3,
     "metadata": {},
     "source": [
      "Downloading and displaying raw data"
     ]
    },
    {
     "cell_type": "code",
     "collapsed": false,
     "input": [
      "%load_ext rmagic"
     ],
     "language": "python",
     "metadata": {},
     "outputs": [],
     "prompt_number": 1
    },
    {
     "cell_type": "markdown",
     "metadata": {},
     "source": [
      "**TO DO:** list sources, display data sample, explain data content, etc. "
     ]
    },
    {
     "cell_type": "heading",
     "level": 3,
     "metadata": {},
     "source": [
      "Getting the Wheat Data"
     ]
    },
    {
     "cell_type": "markdown",
     "metadata": {},
     "source": [
      "These 6 files contain the wheat data that we will use. <br>\n",
      "Data from 1278 to 1817 was obtained from the Internation Insititue of Social History: http://www.iisg.nl/hpw/ <br>\n",
      "Data from 1790 to 1950 was obtained from \"Commodity Price Volatility and World Market Integration since 1700\" http://www.sfu.ca/~djacks/data/publications/ <br>\n",
      "The prices of the wheat are split up into months or seasons (depending on the file) and are in shillings per quarter. <br>\n",
      "We used the curl command in bash to grab the excel files and saved them in the raw data folder."
     ]
    },
    {
     "cell_type": "code",
     "collapsed": false,
     "input": [
      "%%bash\n",
      "curl http://www.iisg.nl/hpw/varioustowns.xls >> ../data/raw/Wheat_Prices_1278_1536.xls\n",
      "curl http://www.iisg.nl/hpw/cambridge.xls >> ../data/raw/Wheat_Prices_1594_1681.xls\n",
      "curl http://www.iisg.nl/hpw/winchester.xls >> ../data/raw/Wheat_Prices_1657_1817.xls\n",
      "curl http://www.sfu.ca/~djacks/data/publications/Britain,%20Commodity%20Prices,%201790-1850,%20monthly.xlsx >> ../data/raw/Wheat_Prices_1790_1850.xls\n",
      "curl http://www.sfu.ca/~djacks/data/publications/Britain,%20Commodity%20Prices,%201850-1950,%20annual.xlsx >> ../data/raw/Wheat_Prices_1850_1950.xls\n",
      "curl http://www.iisg.nl/hpw/englandgrain2.xls >> ../data/raw/Wheat_Prices_1929_1955.xls\n"
     ],
     "language": "python",
     "metadata": {},
     "outputs": [
      {
       "output_type": "stream",
       "stream": "stderr",
       "text": [
        "  % Total    % Received % Xferd  Average Speed   Time    Time     Time  Current\n",
        "                                 Dload  Upload   Total   Spent    Left  Speed\n",
        "\r",
        "  0     0    0     0    0     0      0      0 --:--:-- --:--:-- --:--:--     0\r",
        "  9  127k    9 12726    0     0   9730      0  0:00:13  0:00:01  0:00:12 15987\r",
        " 64  127k   64 83678    0     0  36452      0  0:00:03  0:00:02  0:00:01 46904\r",
        "100  127k  100  127k    0     0  52277      0  0:00:02  0:00:02 --:--:-- 65740\n",
        "  % Total    % Received % Xferd  Average Speed   Time    Time     Time  Current\n",
        "                                 Dload  Upload   Total   Spent    Left  Speed\n",
        "\r",
        "  0     0    0     0    0     0      0      0 --:--:-- --:--:-- --:--:--     0\r",
        " 22 37888   22  8384    0     0  11280      0  0:00:03 --:--:--  0:00:03 11314\r",
        "100 37888  100 37888    0     0  33987      0  0:00:01  0:00:01 --:--:-- 34071\n",
        "  % Total    % Received % Xferd  Average Speed   Time    Time     Time  Current\n",
        "                                 Dload  Upload   Total   Spent    Left  Speed\n",
        "\r",
        "  0     0    0     0    0     0      0      0 --:--:-- --:--:-- --:--:--     0\r",
        " 35 36352   35 12709    0     0  17088      0  0:00:02 --:--:--  0:00:02 17128\r",
        "100 36352  100 36352    0     0  32635      0  0:00:01  0:00:01 --:--:-- 32720\n",
        "  % Total    % Received % Xferd  Average Speed   Time    Time     Time  Current\n",
        "                                 Dload  Upload   Total   Spent    Left  Speed\n",
        "\r",
        "  0     0    0     0    0     0      0      0 --:--:-- --:--:-- --:--:--     0\r",
        " 61  778k   61  482k    0     0  1041k      0 --:--:-- --:--:-- --:--:-- 1109k\r",
        "100  778k  100  778k    0     0  1362k      0 --:--:-- --:--:-- --:--:-- 1431k\n",
        "  % Total    % Received % Xferd  Average Speed   Time    Time     Time  Current\n",
        "                                 Dload  Upload   Total   Spent    Left  Speed\n",
        "\r",
        "  0     0    0     0    0     0      0      0 --:--:-- --:--:-- --:--:--     0\r",
        "100 91711  100 91711    0     0   491k      0 --:--:-- --:--:-- --:--:--  497k\n",
        "  % Total    % Received % Xferd  Average Speed   Time    Time     Time  Current\n",
        "                                 Dload  Upload   Total   Spent    Left  Speed\n",
        "\r",
        "  0     0    0     0    0     0      0      0 --:--:-- --:--:-- --:--:--     0\r",
        " 20 69120   20 14156    0     0  17762      0  0:00:03 --:--:--  0:00:03 17783\r",
        "100 69120  100 69120    0     0  49470      0  0:00:01  0:00:01 --:--:-- 49548\n"
       ]
      }
     ],
     "prompt_number": 2
    },
    {
     "cell_type": "markdown",
     "metadata": {},
     "source": [
      "Example of the wheat data: <br>\n",
      "**Season** refers to the year that the data was gathered. <br>\n",
      "**Michaelmas, Xmas, etc** refer to the time of year the data was gathered."
     ]
    },
    {
     "cell_type": "code",
     "collapsed": false,
     "input": [
      "%%R\n",
      "library(xlsx)\n",
      "print(head(read.xlsx(\"../data/raw/Wheat_Prices_1594_1681.xls\")))"
     ],
     "language": "python",
     "metadata": {},
     "outputs": [
      {
       "output_type": "stream",
       "stream": "stderr",
       "text": [
        "ERROR: Cell magic `%%R` not found.\n"
       ]
      }
     ],
     "prompt_number": 15
    },
    {
     "cell_type": "markdown",
     "metadata": {},
     "source": [
      "For the following two files, we only want to grab the wheat data instead of the data for other commodities. We do this by grabbing only certain columns of the excel file, labeling the row/column names, and then saving them to another file in the raw data folder."
     ]
    },
    {
     "cell_type": "code",
     "collapsed": false,
     "input": [
      "%%R\n",
      "file <- read.xlsx(\"../data/raw/Wheat_Prices_1790_1850.xls\", 1)\n",
      "segment <- file[-(1:5),c(\"NA.\",\"NA..23\")]\n",
      "names(segment) <- c(\"Year\", \"Price\")\n",
      "rownames(segment) <- 1:dim(segment)[1]\n",
      "write.xlsx(segment, \"../data/raw/Wheat_Prices_1790_1850_2.xls\", sheetName=\"Wheat\")\n",
      "\n",
      "file2 <- read.xlsx(\"../data/raw/Wheat_Prices_1850_1950.xls\", 1)\n",
      "segment <- file2[-(1:7),1:2]\n",
      "names(segment) <- c(\"Year\", \"Price\")\n",
      "rownames(segment) <- 1:dim(segment)[1]\n",
      "write.xlsx(segment, \"../data/raw/Wheat_Prices_1850_1950_2.xls\", sheetName=\"Wheat\")"
     ],
     "language": "python",
     "metadata": {},
     "outputs": [
      {
       "output_type": "stream",
       "stream": "stderr",
       "text": [
        "ERROR: Cell magic `%%R` not found.\n"
       ]
      }
     ],
     "prompt_number": 2
    },
    {
     "cell_type": "markdown",
     "metadata": {},
     "source": [
      "**Year** refers to the year the data was gathered. <br>\n",
      "**Price** refers to the price of the wheat in shillings per quarter."
     ]
    },
    {
     "cell_type": "code",
     "collapsed": false,
     "input": [
      "%%R\n",
      "library(xlsx)\n",
      "print(head(read.xlsx(\"../data/raw/Wheat_Prices_1790_1850_2.xls\")))"
     ],
     "language": "python",
     "metadata": {},
     "outputs": []
    },
    {
     "cell_type": "heading",
     "level": 3,
     "metadata": {},
     "source": [
      "Getting the Gold, Silver, and CPI data"
     ]
    },
    {
     "cell_type": "markdown",
     "metadata": {},
     "source": [
      "The files were gotten from the GlobalFinancialData website here: https://www.globalfinancialdata.com/Databases/databases.html <br>\n",
      "There are no convienient APIs and you need a membership to grab the data, so they were loaded onto google drive, then downloaded below. <br>\n",
      "The files contain CPI, gold, and silver information.\n",
      "\n",
      "The data consists of annual data. The price of Silver and Gold are given in Pounds per Ounce."
     ]
    },
    {
     "cell_type": "code",
     "collapsed": false,
     "input": [
      "%%bash\n",
      "curl  https://googledrive.com/host/0B40_9-iPWYmiNUdtNkdTQkoySUU >> \"../data/raw/UK_CPI data.csv\"\n",
      "curl  https://googledrive.com/host/0B40_9-iPWYmiZHJjQzI2ZHlnTkE >> \"../data/raw/UK_gold Prices (1257-2011).csv\"\n",
      "curl  https://googledrive.com/host/0B40_9-iPWYmidEdzelZ5cVRMamM >> \"../data/raw/UK_silver Prices per oz. (1257-2011).csv\""
     ],
     "language": "python",
     "metadata": {},
     "outputs": [
      {
       "output_type": "stream",
       "stream": "stderr",
       "text": [
        "  % Total    % Received % Xferd  Average Speed   Time    Time     Time  Current\n",
        "                                 Dload  Upload   Total   Spent    Left  Speed\n",
        "\r",
        "  0     0    0     0    0     0      0      0 --:--:-- --:--:-- --:--:--     0\r",
        "  0     0    0     0    0     0      0      0 --:--:-- --:--:-- --:--:--     0\r",
        "100 32531  100 32531    0     0   104k      0 --:--:-- --:--:-- --:--:--  115k\n",
        "  % Total    % Received % Xferd  Average Speed   Time    Time     Time  Current\n",
        "                                 Dload  Upload   Total   Spent    Left  Speed\n",
        "\r",
        "  0     0    0     0    0     0      0      0 --:--:-- --:--:-- --:--:--     0\r",
        "100 23559  100 23559    0     0  45154      0 --:--:-- --:--:-- --:--:-- 45305\n",
        "  % Total    % Received % Xferd  Average Speed   Time    Time     Time  Current\n",
        "                                 Dload  Upload   Total   Spent    Left  Speed\n",
        "\r",
        "  0     0    0     0    0     0      0      0 --:--:-- --:--:-- --:--:--     0\r",
        "  0  199k    0     0    0     0      0      0 --:--:-- --:--:-- --:--:--     0\r",
        "100  199k  100  199k    0     0   356k      0 --:--:-- --:--:-- --:--:--  357k\n"
       ]
      }
     ],
     "prompt_number": 1
    },
    {
     "cell_type": "code",
     "collapsed": false,
     "input": [
      "%%R\n",
      "print(head(read.csv(\"../data/raw/UK_CPI data.csv\")))"
     ],
     "language": "python",
     "metadata": {},
     "outputs": [
      {
       "metadata": {},
       "output_type": "display_data",
       "text": [
        "        Date Ticker     Close    Inflation\n",
        "1 12/31/1209 CPGBRM  0.211248             \n",
        "2 12/31/1210 CPGBRM  0.211248            0\n",
        "3 12/31/1211 CPGBRM 0.2322401  0.099371828\n",
        "4 12/31/1212 CPGBRM 0.2035141 -0.123690956\n",
        "5 12/31/1213 CPGBRM 0.2035141            0\n",
        "6 12/31/1214 CPGBRM 0.2063943  0.014152336\n"
       ]
      }
     ],
     "prompt_number": 17
    },
    {
     "cell_type": "markdown",
     "metadata": {},
     "source": [
      "The **Date**, **Close**, and **Inflation** factors are the frames we want to look at.<br>\n",
      "The **Date** refers to the date.<br>\n",
      "The **Close** refers to the CPI data.<br>\n",
      "The **Inflation** refers to the difference between the current and previous year's CPI."
     ]
    },
    {
     "cell_type": "code",
     "collapsed": false,
     "input": [
      "%%R\n",
      "print(head(read.csv(\"../data/raw/UK_gold Prices (1257-2011).csv\")))"
     ],
     "language": "python",
     "metadata": {},
     "outputs": [
      {
       "metadata": {},
       "output_type": "display_data",
       "text": [
        "        Date  Ticker Close Change\n",
        "1 12/31/1257 CMGCGBW 0.889     NA\n",
        "2 12/31/1258 CMGCGBW 0.889      0\n",
        "3 12/31/1259 CMGCGBW 0.889      0\n",
        "4 12/31/1260 CMGCGBW 0.889      0\n",
        "5 12/31/1261 CMGCGBW 0.889      0\n",
        "6 12/31/1262 CMGCGBW 0.889      0\n"
       ]
      }
     ],
     "prompt_number": 18
    },
    {
     "cell_type": "markdown",
     "metadata": {},
     "source": [
      "The **Date**, **Close**, and **Change** are the important columns we want to look at. <br>\n",
      "The **Close** references the price of Gold, while the **Change** refers to the difference between the current and prior year's data."
     ]
    },
    {
     "cell_type": "code",
     "collapsed": false,
     "input": [
      "%%R\n",
      "print(head(read.csv(\"../data/raw/UK_silver Prices per oz. (1257-2011).csv\")))"
     ],
     "language": "python",
     "metadata": {},
     "outputs": [
      {
       "metadata": {},
       "output_type": "display_data",
       "text": [
        "        Date  Ticker   Open   High    Low  Close      Change\n",
        "1 12/31/1257 CMSIGBW 23.243 23.243 23.243 23.243          NA\n",
        "2 12/31/1258 CMSIGBW 23.243 23.243 23.243 23.243 0.000000000\n",
        "3 12/31/1259 CMSIGBW 23.243 23.243 23.243 23.243 0.000000000\n",
        "4 12/31/1260 CMSIGBW 23.243 23.243 23.243 23.243 0.000000000\n",
        "5 12/31/1261 CMSIGBW 23.243 23.243 23.243 23.243 0.000000000\n",
        "6 12/31/1262 CMSIGBW 23.243 23.243 23.243 23.243 0.004474465\n"
       ]
      }
     ],
     "prompt_number": 19
    },
    {
     "cell_type": "markdown",
     "metadata": {},
     "source": [
      "The **Date**, **Close**, and **Change** are the important columns we want to look at. <br>\n",
      "The **Close** references the price of Silver, while the **Change** refers to the difference between the current and prior year's data."
     ]
    }
   ],
   "metadata": {}
  }
 ]
}