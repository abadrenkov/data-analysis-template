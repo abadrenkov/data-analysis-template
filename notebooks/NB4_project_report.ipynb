{
 "metadata": {
  "name": ""
 },
 "nbformat": 3,
 "nbformat_minor": 0,
 "worksheets": [
  {
   "cells": [
    {
     "cell_type": "markdown",
     "metadata": {},
     "source": [
      "In this notebook, you'll sumarize your finding for the class presentation. \n",
      "\n",
      "\n",
      "The class presentation will use this notebook in slide mode, as I do during lecture time.\n",
      "\n",
      "You'll need to download the following [zip file](https://github.com/fperez/nb-slideshow-template/archive/master.zip), unzip it, and run the following notebook <code>install-support.ipynb</code> to install the slide capabilities.\n",
      "\n",
      "The notebook <code>notebook-slideshow-example.ipynb</code> will give you examples on how to use slides within the iPython notebook.  \n",
      "\n",
      "You should also write this notebook so that you can convert it nicely into a pdf document using the commands\n",
      "\n",
      "    ipython nbconvert NB4_report.pynb --to latex\n",
      "    pdflatex NB4_report.tex\n",
      "    \n",
      "See [here](http://ipython.org/ipython-doc/rel-1.0.0/interactive/nbconvert.html) for further references on how to do that. \n",
      "\n",
      "In this notebook, you'll\n",
      "\n",
      "* describe your problem as stated in the propectus \n",
      " \n",
      " \n",
      "* comment on your data sources, on their format, on the difficulties to get them\n",
      "\n",
      "\n",
      "* present the main challenge you encountered\n",
      "\n",
      "\n",
      "* present your finding in the form of expresive graphics\n",
      "\n",
      "Be sure to include an introduction section motivating your visualizations, with a description of the substantive context and why it is interesting.\n",
      "\n",
      "\n",
      "Cite the source of the data and any other references that you used in carrying out your project.\n"
     ]
    },
    {
     "cell_type": "markdown",
     "metadata": {},
     "source": [
      "##Team members responsible for this notebook:\n",
      "\n",
      "* **Alexander Badrenkov: Everything**\n",
      "* **Ivan Kgo: Everything**\n",
      "* **Tony Lin: Everything**\n",
      "* **Yvonne Ng: Everything**"
     ]
    },
    {
     "cell_type": "heading",
     "level": 2,
     "metadata": {},
     "source": [
      "The Problem"
     ]
    },
    {
     "cell_type": "markdown",
     "metadata": {},
     "source": [
      "Gold has long been the topic of controversy for investors. Many advise that gold be used as a hedge against inflation while others argue that gold prices are too volatile for this purpose. <br>\n",
      "A commodity that is an inflationary hedge will move more slowly or not at all in the direction of the movement of inflation (i.e. if inflation rises, a good inflationary hedge will not increase in price). <br>\n",
      "Our group plans to look at the prices of gold over the past 500 years. We hope to calculate the change in gold prices over time from historical data on the price of gold and identify any trends that may result. We will then proceed to calculate the historical fluctuation of gold prices relative to inflation and silver and wheat; that is, we will be looking at the changes of relative prices. We hope to determine the functionality of gold as an inflationary hedge. We will determine this through checking if there if any relationship between gold and inflation. We will further establish credibility through the comparison of price fluctuations of wheat and silver."
     ]
    },
    {
     "cell_type": "heading",
     "level": 2,
     "metadata": {},
     "source": [
      "Data Sources"
     ]
    },
    {
     "cell_type": "markdown",
     "metadata": {},
     "source": [
      "The cpi, gold, and silver files were gotten from the GlobalFinancialData website here: https://www.globalfinancialdata.com/Databases/databases.html <br>\n",
      "This website required a memebership to download the files, so we downloaded them and put them into a google drive. This was the only difficulty that we encountered. <br>\n",
      "The cpi, gold, and silver data was gathered annually and the prices were in pounds. <br>\n",
      "Wheat data from 1278 to 1817 was obtained from the Internation Insititue of Social History: http://www.iisg.nl/hpw/ <br>\n",
      "What data from 1790 to 1950 was obtained from \"Commodity Price Volatility and World Market Integration since 1700\" http://www.sfu.ca/~djacks/data/publications/ <br>\n",
      "The wheat data came in excel files with the prices in shillings per quarter gathered annually, seasonally, or monthly (depending on the file)."
     ]
    },
    {
     "cell_type": "heading",
     "level": 2,
     "metadata": {},
     "source": [
      "Main Challenges"
     ]
    },
    {
     "cell_type": "markdown",
     "metadata": {},
     "source": [
      "**1.** Working out of oski box:\n",
      "<br> Many packages would not load for us (rJava, xlsx). \n",
      "<br>**2.** Gathering the data for such a long period of time.\n",
      "<br> The wheat data was incomplete for a lot of the years. We were forced to combine data from many files together. Even after we did that, we could only have complete data starting from 1550. \n",
      "<br>**3.** Analyzing the data.\n",
      "<br> Given the scatterplot of our data, we did not know enough about time series to come up with relevant plots and come up with a good explanation of the data."
     ]
    },
    {
     "cell_type": "heading",
     "level": 2,
     "metadata": {},
     "source": [
      "Findings"
     ]
    },
    {
     "cell_type": "code",
     "collapsed": false,
     "input": [],
     "language": "python",
     "metadata": {},
     "outputs": []
    }
   ],
   "metadata": {}
  }
 ]
}